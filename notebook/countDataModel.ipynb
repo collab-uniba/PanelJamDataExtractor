{
 "cells": [
  {
   "cell_type": "markdown",
   "metadata": {},
   "source": [
    "# MATRICE DI CORRELAZIONE"
   ]
  },
  {
   "cell_type": "markdown",
   "metadata": {},
   "source": [
    "Come prima operazione, importiamo le librerie necessarie"
   ]
  },
  {
   "cell_type": "code",
   "execution_count": 1,
   "metadata": {
    "scrolled": true
   },
   "outputs": [
    {
     "name": "stderr",
     "output_type": "stream",
     "text": [
      "d:\\dev-cpp\\anaconda\\lib\\site-packages\\rpy2\\robjects\\pandas2ri.py:17: FutureWarning: pandas.core.index is deprecated and will be removed in a future version.  The public classes are available in the top-level namespace.\n",
      "  from pandas.core.index import Index as PandasIndex\n"
     ]
    }
   ],
   "source": [
    "import pandas as pd\n",
    "import statistics as st\n",
    "from rpy2.robjects.packages import importr\n",
    "import rpy2.robjects as ro\n",
    "import numpy as np\n",
    "from sklearn.preprocessing import scale\n",
    "from rpy2.robjects import pandas2ri"
   ]
  },
  {
   "cell_type": "markdown",
   "metadata": {},
   "source": [
    "Successivamente si procede con l'importazione del dataset contenuto nella cartella \"data\". Per raggiungere tale scopo si utilizza il metodo **read_excel()** del modulo **pandas**"
   ]
  },
  {
   "cell_type": "code",
   "execution_count": 2,
   "metadata": {},
   "outputs": [],
   "source": [
    "table = pd.read_excel('https://github.com/collab-uniba/PanelJamDataExtractor/blob/master/data/TabellaCompleta.xlsx?raw=true', index = False)"
   ]
  },
  {
   "cell_type": "markdown",
   "metadata": {},
   "source": [
    "Una volta importato il dataset si devono eliminare alcune feature contenute in esso, questo perchè:\n",
    "\n",
    "-le feature **id_prog**,**id_panel**,**panel_author** contengono delle stringhe che indicano rispettivamente, l'id dei progetti estratti, l'id dei panel contenuti in ogni progetto e il nome del creatore di ogni panel. Queste feature non sono rilevanti per il calcolo della matrice di correlazione(mostrata successivamente) e nemmeno per la costruzione del modello di regressione.\n",
    "\n",
    "-le feature **Likes**, **Views**, **Comments** e **time** fanno riferimento ai progetti e non ai singoli panel, per questo motivo non vengono considerati.\n",
    "\n",
    "Si procede con la costruzione della matrice di correlazione con lo scopo di osservare eventuali problemi di **multicollinearità** tra le feature. Se il grado di correlazione tra due feature è maggiore del limite consentito di **0.7**, se ne deve eliminare una delle due. La matrice verrà costruita utilizzando il metodo **corr()** del modulo **pandas**"
   ]
  },
  {
   "cell_type": "code",
   "execution_count": 3,
   "metadata": {},
   "outputs": [
    {
     "data": {
      "text/html": [
       "<style  type=\"text/css\" >\n",
       "    #T_ad769a3a_ad4a_11ea_95f9_10e7c6da85farow0_col0 {\n",
       "            background-color:  #b40426;\n",
       "            color:  #f1f1f1;\n",
       "        }    #T_ad769a3a_ad4a_11ea_95f9_10e7c6da85farow0_col1 {\n",
       "            background-color:  #3b4cc0;\n",
       "            color:  #f1f1f1;\n",
       "        }    #T_ad769a3a_ad4a_11ea_95f9_10e7c6da85farow0_col2 {\n",
       "            background-color:  #5572df;\n",
       "            color:  #000000;\n",
       "        }    #T_ad769a3a_ad4a_11ea_95f9_10e7c6da85farow0_col3 {\n",
       "            background-color:  #4e68d8;\n",
       "            color:  #000000;\n",
       "        }    #T_ad769a3a_ad4a_11ea_95f9_10e7c6da85farow0_col4 {\n",
       "            background-color:  #485fd1;\n",
       "            color:  #f1f1f1;\n",
       "        }    #T_ad769a3a_ad4a_11ea_95f9_10e7c6da85farow0_col5 {\n",
       "            background-color:  #4f69d9;\n",
       "            color:  #000000;\n",
       "        }    #T_ad769a3a_ad4a_11ea_95f9_10e7c6da85farow0_col6 {\n",
       "            background-color:  #5470de;\n",
       "            color:  #000000;\n",
       "        }    #T_ad769a3a_ad4a_11ea_95f9_10e7c6da85farow0_col7 {\n",
       "            background-color:  #5977e3;\n",
       "            color:  #000000;\n",
       "        }    #T_ad769a3a_ad4a_11ea_95f9_10e7c6da85farow0_col8 {\n",
       "            background-color:  #7da0f9;\n",
       "            color:  #000000;\n",
       "        }    #T_ad769a3a_ad4a_11ea_95f9_10e7c6da85farow1_col0 {\n",
       "            background-color:  #3b4cc0;\n",
       "            color:  #f1f1f1;\n",
       "        }    #T_ad769a3a_ad4a_11ea_95f9_10e7c6da85farow1_col1 {\n",
       "            background-color:  #b40426;\n",
       "            color:  #f1f1f1;\n",
       "        }    #T_ad769a3a_ad4a_11ea_95f9_10e7c6da85farow1_col2 {\n",
       "            background-color:  #3b4cc0;\n",
       "            color:  #f1f1f1;\n",
       "        }    #T_ad769a3a_ad4a_11ea_95f9_10e7c6da85farow1_col3 {\n",
       "            background-color:  #3b4cc0;\n",
       "            color:  #f1f1f1;\n",
       "        }    #T_ad769a3a_ad4a_11ea_95f9_10e7c6da85farow1_col4 {\n",
       "            background-color:  #3b4cc0;\n",
       "            color:  #f1f1f1;\n",
       "        }    #T_ad769a3a_ad4a_11ea_95f9_10e7c6da85farow1_col5 {\n",
       "            background-color:  #3b4cc0;\n",
       "            color:  #f1f1f1;\n",
       "        }    #T_ad769a3a_ad4a_11ea_95f9_10e7c6da85farow1_col6 {\n",
       "            background-color:  #3b4cc0;\n",
       "            color:  #f1f1f1;\n",
       "        }    #T_ad769a3a_ad4a_11ea_95f9_10e7c6da85farow1_col7 {\n",
       "            background-color:  #3b4cc0;\n",
       "            color:  #f1f1f1;\n",
       "        }    #T_ad769a3a_ad4a_11ea_95f9_10e7c6da85farow1_col8 {\n",
       "            background-color:  #3b4cc0;\n",
       "            color:  #f1f1f1;\n",
       "        }    #T_ad769a3a_ad4a_11ea_95f9_10e7c6da85farow2_col0 {\n",
       "            background-color:  #abc8fd;\n",
       "            color:  #000000;\n",
       "        }    #T_ad769a3a_ad4a_11ea_95f9_10e7c6da85farow2_col1 {\n",
       "            background-color:  #96b7ff;\n",
       "            color:  #000000;\n",
       "        }    #T_ad769a3a_ad4a_11ea_95f9_10e7c6da85farow2_col2 {\n",
       "            background-color:  #b40426;\n",
       "            color:  #f1f1f1;\n",
       "        }    #T_ad769a3a_ad4a_11ea_95f9_10e7c6da85farow2_col3 {\n",
       "            background-color:  #92b4fe;\n",
       "            color:  #000000;\n",
       "        }    #T_ad769a3a_ad4a_11ea_95f9_10e7c6da85farow2_col4 {\n",
       "            background-color:  #7b9ff9;\n",
       "            color:  #000000;\n",
       "        }    #T_ad769a3a_ad4a_11ea_95f9_10e7c6da85farow2_col5 {\n",
       "            background-color:  #7396f5;\n",
       "            color:  #000000;\n",
       "        }    #T_ad769a3a_ad4a_11ea_95f9_10e7c6da85farow2_col6 {\n",
       "            background-color:  #6687ed;\n",
       "            color:  #000000;\n",
       "        }    #T_ad769a3a_ad4a_11ea_95f9_10e7c6da85farow2_col7 {\n",
       "            background-color:  #6282ea;\n",
       "            color:  #000000;\n",
       "        }    #T_ad769a3a_ad4a_11ea_95f9_10e7c6da85farow2_col8 {\n",
       "            background-color:  #80a3fa;\n",
       "            color:  #000000;\n",
       "        }    #T_ad769a3a_ad4a_11ea_95f9_10e7c6da85farow3_col0 {\n",
       "            background-color:  #a5c3fe;\n",
       "            color:  #000000;\n",
       "        }    #T_ad769a3a_ad4a_11ea_95f9_10e7c6da85farow3_col1 {\n",
       "            background-color:  #94b6ff;\n",
       "            color:  #000000;\n",
       "        }    #T_ad769a3a_ad4a_11ea_95f9_10e7c6da85farow3_col2 {\n",
       "            background-color:  #8fb1fe;\n",
       "            color:  #000000;\n",
       "        }    #T_ad769a3a_ad4a_11ea_95f9_10e7c6da85farow3_col3 {\n",
       "            background-color:  #b40426;\n",
       "            color:  #f1f1f1;\n",
       "        }    #T_ad769a3a_ad4a_11ea_95f9_10e7c6da85farow3_col4 {\n",
       "            background-color:  #86a9fc;\n",
       "            color:  #000000;\n",
       "        }    #T_ad769a3a_ad4a_11ea_95f9_10e7c6da85farow3_col5 {\n",
       "            background-color:  #6b8df0;\n",
       "            color:  #000000;\n",
       "        }    #T_ad769a3a_ad4a_11ea_95f9_10e7c6da85farow3_col6 {\n",
       "            background-color:  #485fd1;\n",
       "            color:  #f1f1f1;\n",
       "        }    #T_ad769a3a_ad4a_11ea_95f9_10e7c6da85farow3_col7 {\n",
       "            background-color:  #3c4ec2;\n",
       "            color:  #f1f1f1;\n",
       "        }    #T_ad769a3a_ad4a_11ea_95f9_10e7c6da85farow3_col8 {\n",
       "            background-color:  #7a9df8;\n",
       "            color:  #000000;\n",
       "        }    #T_ad769a3a_ad4a_11ea_95f9_10e7c6da85farow4_col0 {\n",
       "            background-color:  #a2c1ff;\n",
       "            color:  #000000;\n",
       "        }    #T_ad769a3a_ad4a_11ea_95f9_10e7c6da85farow4_col1 {\n",
       "            background-color:  #97b8ff;\n",
       "            color:  #000000;\n",
       "        }    #T_ad769a3a_ad4a_11ea_95f9_10e7c6da85farow4_col2 {\n",
       "            background-color:  #7da0f9;\n",
       "            color:  #000000;\n",
       "        }    #T_ad769a3a_ad4a_11ea_95f9_10e7c6da85farow4_col3 {\n",
       "            background-color:  #89acfd;\n",
       "            color:  #000000;\n",
       "        }    #T_ad769a3a_ad4a_11ea_95f9_10e7c6da85farow4_col4 {\n",
       "            background-color:  #b40426;\n",
       "            color:  #f1f1f1;\n",
       "        }    #T_ad769a3a_ad4a_11ea_95f9_10e7c6da85farow4_col5 {\n",
       "            background-color:  #f6a586;\n",
       "            color:  #000000;\n",
       "        }    #T_ad769a3a_ad4a_11ea_95f9_10e7c6da85farow4_col6 {\n",
       "            background-color:  #f6bea4;\n",
       "            color:  #000000;\n",
       "        }    #T_ad769a3a_ad4a_11ea_95f9_10e7c6da85farow4_col7 {\n",
       "            background-color:  #afcafc;\n",
       "            color:  #000000;\n",
       "        }    #T_ad769a3a_ad4a_11ea_95f9_10e7c6da85farow4_col8 {\n",
       "            background-color:  #9ebeff;\n",
       "            color:  #000000;\n",
       "        }    #T_ad769a3a_ad4a_11ea_95f9_10e7c6da85farow5_col0 {\n",
       "            background-color:  #a6c4fe;\n",
       "            color:  #000000;\n",
       "        }    #T_ad769a3a_ad4a_11ea_95f9_10e7c6da85farow5_col1 {\n",
       "            background-color:  #94b6ff;\n",
       "            color:  #000000;\n",
       "        }    #T_ad769a3a_ad4a_11ea_95f9_10e7c6da85farow5_col2 {\n",
       "            background-color:  #7093f3;\n",
       "            color:  #000000;\n",
       "        }    #T_ad769a3a_ad4a_11ea_95f9_10e7c6da85farow5_col3 {\n",
       "            background-color:  #6a8bef;\n",
       "            color:  #000000;\n",
       "        }    #T_ad769a3a_ad4a_11ea_95f9_10e7c6da85farow5_col4 {\n",
       "            background-color:  #f7a688;\n",
       "            color:  #000000;\n",
       "        }    #T_ad769a3a_ad4a_11ea_95f9_10e7c6da85farow5_col5 {\n",
       "            background-color:  #b40426;\n",
       "            color:  #f1f1f1;\n",
       "        }    #T_ad769a3a_ad4a_11ea_95f9_10e7c6da85farow5_col6 {\n",
       "            background-color:  #f29274;\n",
       "            color:  #000000;\n",
       "        }    #T_ad769a3a_ad4a_11ea_95f9_10e7c6da85farow5_col7 {\n",
       "            background-color:  #aac7fd;\n",
       "            color:  #000000;\n",
       "        }    #T_ad769a3a_ad4a_11ea_95f9_10e7c6da85farow5_col8 {\n",
       "            background-color:  #a2c1ff;\n",
       "            color:  #000000;\n",
       "        }    #T_ad769a3a_ad4a_11ea_95f9_10e7c6da85farow6_col0 {\n",
       "            background-color:  #aac7fd;\n",
       "            color:  #000000;\n",
       "        }    #T_ad769a3a_ad4a_11ea_95f9_10e7c6da85farow6_col1 {\n",
       "            background-color:  #94b6ff;\n",
       "            color:  #000000;\n",
       "        }    #T_ad769a3a_ad4a_11ea_95f9_10e7c6da85farow6_col2 {\n",
       "            background-color:  #6384eb;\n",
       "            color:  #000000;\n",
       "        }    #T_ad769a3a_ad4a_11ea_95f9_10e7c6da85farow6_col3 {\n",
       "            background-color:  #485fd1;\n",
       "            color:  #f1f1f1;\n",
       "        }    #T_ad769a3a_ad4a_11ea_95f9_10e7c6da85farow6_col4 {\n",
       "            background-color:  #f6bfa6;\n",
       "            color:  #000000;\n",
       "        }    #T_ad769a3a_ad4a_11ea_95f9_10e7c6da85farow6_col5 {\n",
       "            background-color:  #f29274;\n",
       "            color:  #000000;\n",
       "        }    #T_ad769a3a_ad4a_11ea_95f9_10e7c6da85farow6_col6 {\n",
       "            background-color:  #b40426;\n",
       "            color:  #f1f1f1;\n",
       "        }    #T_ad769a3a_ad4a_11ea_95f9_10e7c6da85farow6_col7 {\n",
       "            background-color:  #f6bea4;\n",
       "            color:  #000000;\n",
       "        }    #T_ad769a3a_ad4a_11ea_95f9_10e7c6da85farow6_col8 {\n",
       "            background-color:  #8db0fe;\n",
       "            color:  #000000;\n",
       "        }    #T_ad769a3a_ad4a_11ea_95f9_10e7c6da85farow7_col0 {\n",
       "            background-color:  #aec9fc;\n",
       "            color:  #000000;\n",
       "        }    #T_ad769a3a_ad4a_11ea_95f9_10e7c6da85farow7_col1 {\n",
       "            background-color:  #94b6ff;\n",
       "            color:  #000000;\n",
       "        }    #T_ad769a3a_ad4a_11ea_95f9_10e7c6da85farow7_col2 {\n",
       "            background-color:  #5f7fe8;\n",
       "            color:  #000000;\n",
       "        }    #T_ad769a3a_ad4a_11ea_95f9_10e7c6da85farow7_col3 {\n",
       "            background-color:  #3b4cc0;\n",
       "            color:  #f1f1f1;\n",
       "        }    #T_ad769a3a_ad4a_11ea_95f9_10e7c6da85farow7_col4 {\n",
       "            background-color:  #adc9fd;\n",
       "            color:  #000000;\n",
       "        }    #T_ad769a3a_ad4a_11ea_95f9_10e7c6da85farow7_col5 {\n",
       "            background-color:  #a9c6fd;\n",
       "            color:  #000000;\n",
       "        }    #T_ad769a3a_ad4a_11ea_95f9_10e7c6da85farow7_col6 {\n",
       "            background-color:  #f6bfa6;\n",
       "            color:  #000000;\n",
       "        }    #T_ad769a3a_ad4a_11ea_95f9_10e7c6da85farow7_col7 {\n",
       "            background-color:  #b40426;\n",
       "            color:  #f1f1f1;\n",
       "        }    #T_ad769a3a_ad4a_11ea_95f9_10e7c6da85farow7_col8 {\n",
       "            background-color:  #8badfd;\n",
       "            color:  #000000;\n",
       "        }    #T_ad769a3a_ad4a_11ea_95f9_10e7c6da85farow8_col0 {\n",
       "            background-color:  #aec9fc;\n",
       "            color:  #000000;\n",
       "        }    #T_ad769a3a_ad4a_11ea_95f9_10e7c6da85farow8_col1 {\n",
       "            background-color:  #7295f4;\n",
       "            color:  #000000;\n",
       "        }    #T_ad769a3a_ad4a_11ea_95f9_10e7c6da85farow8_col2 {\n",
       "            background-color:  #5a78e4;\n",
       "            color:  #000000;\n",
       "        }    #T_ad769a3a_ad4a_11ea_95f9_10e7c6da85farow8_col3 {\n",
       "            background-color:  #5673e0;\n",
       "            color:  #000000;\n",
       "        }    #T_ad769a3a_ad4a_11ea_95f9_10e7c6da85farow8_col4 {\n",
       "            background-color:  #7b9ff9;\n",
       "            color:  #000000;\n",
       "        }    #T_ad769a3a_ad4a_11ea_95f9_10e7c6da85farow8_col5 {\n",
       "            background-color:  #82a6fb;\n",
       "            color:  #000000;\n",
       "        }    #T_ad769a3a_ad4a_11ea_95f9_10e7c6da85farow8_col6 {\n",
       "            background-color:  #6a8bef;\n",
       "            color:  #000000;\n",
       "        }    #T_ad769a3a_ad4a_11ea_95f9_10e7c6da85farow8_col7 {\n",
       "            background-color:  #688aef;\n",
       "            color:  #000000;\n",
       "        }    #T_ad769a3a_ad4a_11ea_95f9_10e7c6da85farow8_col8 {\n",
       "            background-color:  #b40426;\n",
       "            color:  #f1f1f1;\n",
       "        }</style><table id=\"T_ad769a3a_ad4a_11ea_95f9_10e7c6da85fa\" ><thead>    <tr>        <th class=\"blank level0\" ></th>        <th class=\"col_heading level0 col0\" >project_depth</th>        <th class=\"col_heading level0 col1\" >extended</th>        <th class=\"col_heading level0 col2\" >has_avatar_author</th>        <th class=\"col_heading level0 col3\" >has_bio_author</th>        <th class=\"col_heading level0 col4\" >author_followers</th>        <th class=\"col_heading level0 col5\" >tot_loves_author</th>        <th class=\"col_heading level0 col6\" >tot_views_author</th>        <th class=\"col_heading level0 col7\" >author_ranking</th>        <th class=\"col_heading level0 col8\" >panel_stars</th>    </tr></thead><tbody>\n",
       "                <tr>\n",
       "                        <th id=\"T_ad769a3a_ad4a_11ea_95f9_10e7c6da85falevel0_row0\" class=\"row_heading level0 row0\" >project_depth</th>\n",
       "                        <td id=\"T_ad769a3a_ad4a_11ea_95f9_10e7c6da85farow0_col0\" class=\"data row0 col0\" >1.00</td>\n",
       "                        <td id=\"T_ad769a3a_ad4a_11ea_95f9_10e7c6da85farow0_col1\" class=\"data row0 col1\" >-0.42</td>\n",
       "                        <td id=\"T_ad769a3a_ad4a_11ea_95f9_10e7c6da85farow0_col2\" class=\"data row0 col2\" >0.06</td>\n",
       "                        <td id=\"T_ad769a3a_ad4a_11ea_95f9_10e7c6da85farow0_col3\" class=\"data row0 col3\" >0.03</td>\n",
       "                        <td id=\"T_ad769a3a_ad4a_11ea_95f9_10e7c6da85farow0_col4\" class=\"data row0 col4\" >0.02</td>\n",
       "                        <td id=\"T_ad769a3a_ad4a_11ea_95f9_10e7c6da85farow0_col5\" class=\"data row0 col5\" >0.04</td>\n",
       "                        <td id=\"T_ad769a3a_ad4a_11ea_95f9_10e7c6da85farow0_col6\" class=\"data row0 col6\" >0.05</td>\n",
       "                        <td id=\"T_ad769a3a_ad4a_11ea_95f9_10e7c6da85farow0_col7\" class=\"data row0 col7\" >0.07</td>\n",
       "                        <td id=\"T_ad769a3a_ad4a_11ea_95f9_10e7c6da85farow0_col8\" class=\"data row0 col8\" >0.07</td>\n",
       "            </tr>\n",
       "            <tr>\n",
       "                        <th id=\"T_ad769a3a_ad4a_11ea_95f9_10e7c6da85falevel0_row1\" class=\"row_heading level0 row1\" >extended</th>\n",
       "                        <td id=\"T_ad769a3a_ad4a_11ea_95f9_10e7c6da85farow1_col0\" class=\"data row1 col0\" >-0.42</td>\n",
       "                        <td id=\"T_ad769a3a_ad4a_11ea_95f9_10e7c6da85farow1_col1\" class=\"data row1 col1\" >1.00</td>\n",
       "                        <td id=\"T_ad769a3a_ad4a_11ea_95f9_10e7c6da85farow1_col2\" class=\"data row1 col2\" >-0.03</td>\n",
       "                        <td id=\"T_ad769a3a_ad4a_11ea_95f9_10e7c6da85farow1_col3\" class=\"data row1 col3\" >-0.03</td>\n",
       "                        <td id=\"T_ad769a3a_ad4a_11ea_95f9_10e7c6da85farow1_col4\" class=\"data row1 col4\" >-0.02</td>\n",
       "                        <td id=\"T_ad769a3a_ad4a_11ea_95f9_10e7c6da85farow1_col5\" class=\"data row1 col5\" >-0.03</td>\n",
       "                        <td id=\"T_ad769a3a_ad4a_11ea_95f9_10e7c6da85farow1_col6\" class=\"data row1 col6\" >-0.03</td>\n",
       "                        <td id=\"T_ad769a3a_ad4a_11ea_95f9_10e7c6da85farow1_col7\" class=\"data row1 col7\" >-0.04</td>\n",
       "                        <td id=\"T_ad769a3a_ad4a_11ea_95f9_10e7c6da85farow1_col8\" class=\"data row1 col8\" >-0.17</td>\n",
       "            </tr>\n",
       "            <tr>\n",
       "                        <th id=\"T_ad769a3a_ad4a_11ea_95f9_10e7c6da85falevel0_row2\" class=\"row_heading level0 row2\" >has_avatar_author</th>\n",
       "                        <td id=\"T_ad769a3a_ad4a_11ea_95f9_10e7c6da85farow2_col0\" class=\"data row2 col0\" >0.06</td>\n",
       "                        <td id=\"T_ad769a3a_ad4a_11ea_95f9_10e7c6da85farow2_col1\" class=\"data row2 col1\" >-0.03</td>\n",
       "                        <td id=\"T_ad769a3a_ad4a_11ea_95f9_10e7c6da85farow2_col2\" class=\"data row2 col2\" >1.00</td>\n",
       "                        <td id=\"T_ad769a3a_ad4a_11ea_95f9_10e7c6da85farow2_col3\" class=\"data row2 col3\" >0.24</td>\n",
       "                        <td id=\"T_ad769a3a_ad4a_11ea_95f9_10e7c6da85farow2_col4\" class=\"data row2 col4\" >0.18</td>\n",
       "                        <td id=\"T_ad769a3a_ad4a_11ea_95f9_10e7c6da85farow2_col5\" class=\"data row2 col5\" >0.15</td>\n",
       "                        <td id=\"T_ad769a3a_ad4a_11ea_95f9_10e7c6da85farow2_col6\" class=\"data row2 col6\" >0.11</td>\n",
       "                        <td id=\"T_ad769a3a_ad4a_11ea_95f9_10e7c6da85farow2_col7\" class=\"data row2 col7\" >0.09</td>\n",
       "                        <td id=\"T_ad769a3a_ad4a_11ea_95f9_10e7c6da85farow2_col8\" class=\"data row2 col8\" >0.08</td>\n",
       "            </tr>\n",
       "            <tr>\n",
       "                        <th id=\"T_ad769a3a_ad4a_11ea_95f9_10e7c6da85falevel0_row3\" class=\"row_heading level0 row3\" >has_bio_author</th>\n",
       "                        <td id=\"T_ad769a3a_ad4a_11ea_95f9_10e7c6da85farow3_col0\" class=\"data row3 col0\" >0.03</td>\n",
       "                        <td id=\"T_ad769a3a_ad4a_11ea_95f9_10e7c6da85farow3_col1\" class=\"data row3 col1\" >-0.03</td>\n",
       "                        <td id=\"T_ad769a3a_ad4a_11ea_95f9_10e7c6da85farow3_col2\" class=\"data row3 col2\" >0.24</td>\n",
       "                        <td id=\"T_ad769a3a_ad4a_11ea_95f9_10e7c6da85farow3_col3\" class=\"data row3 col3\" >1.00</td>\n",
       "                        <td id=\"T_ad769a3a_ad4a_11ea_95f9_10e7c6da85farow3_col4\" class=\"data row3 col4\" >0.22</td>\n",
       "                        <td id=\"T_ad769a3a_ad4a_11ea_95f9_10e7c6da85farow3_col5\" class=\"data row3 col5\" >0.12</td>\n",
       "                        <td id=\"T_ad769a3a_ad4a_11ea_95f9_10e7c6da85farow3_col6\" class=\"data row3 col6\" >0.01</td>\n",
       "                        <td id=\"T_ad769a3a_ad4a_11ea_95f9_10e7c6da85farow3_col7\" class=\"data row3 col7\" >-0.03</td>\n",
       "                        <td id=\"T_ad769a3a_ad4a_11ea_95f9_10e7c6da85farow3_col8\" class=\"data row3 col8\" >0.06</td>\n",
       "            </tr>\n",
       "            <tr>\n",
       "                        <th id=\"T_ad769a3a_ad4a_11ea_95f9_10e7c6da85falevel0_row4\" class=\"row_heading level0 row4\" >author_followers</th>\n",
       "                        <td id=\"T_ad769a3a_ad4a_11ea_95f9_10e7c6da85farow4_col0\" class=\"data row4 col0\" >0.02</td>\n",
       "                        <td id=\"T_ad769a3a_ad4a_11ea_95f9_10e7c6da85farow4_col1\" class=\"data row4 col1\" >-0.02</td>\n",
       "                        <td id=\"T_ad769a3a_ad4a_11ea_95f9_10e7c6da85farow4_col2\" class=\"data row4 col2\" >0.18</td>\n",
       "                        <td id=\"T_ad769a3a_ad4a_11ea_95f9_10e7c6da85farow4_col3\" class=\"data row4 col3\" >0.22</td>\n",
       "                        <td id=\"T_ad769a3a_ad4a_11ea_95f9_10e7c6da85farow4_col4\" class=\"data row4 col4\" >1.00</td>\n",
       "                        <td id=\"T_ad769a3a_ad4a_11ea_95f9_10e7c6da85farow4_col5\" class=\"data row4 col5\" >0.71</td>\n",
       "                        <td id=\"T_ad769a3a_ad4a_11ea_95f9_10e7c6da85farow4_col6\" class=\"data row4 col6\" >0.63</td>\n",
       "                        <td id=\"T_ad769a3a_ad4a_11ea_95f9_10e7c6da85farow4_col7\" class=\"data row4 col7\" >0.33</td>\n",
       "                        <td id=\"T_ad769a3a_ad4a_11ea_95f9_10e7c6da85farow4_col8\" class=\"data row4 col8\" >0.18</td>\n",
       "            </tr>\n",
       "            <tr>\n",
       "                        <th id=\"T_ad769a3a_ad4a_11ea_95f9_10e7c6da85falevel0_row5\" class=\"row_heading level0 row5\" >tot_loves_author</th>\n",
       "                        <td id=\"T_ad769a3a_ad4a_11ea_95f9_10e7c6da85farow5_col0\" class=\"data row5 col0\" >0.04</td>\n",
       "                        <td id=\"T_ad769a3a_ad4a_11ea_95f9_10e7c6da85farow5_col1\" class=\"data row5 col1\" >-0.03</td>\n",
       "                        <td id=\"T_ad769a3a_ad4a_11ea_95f9_10e7c6da85farow5_col2\" class=\"data row5 col2\" >0.15</td>\n",
       "                        <td id=\"T_ad769a3a_ad4a_11ea_95f9_10e7c6da85farow5_col3\" class=\"data row5 col3\" >0.12</td>\n",
       "                        <td id=\"T_ad769a3a_ad4a_11ea_95f9_10e7c6da85farow5_col4\" class=\"data row5 col4\" >0.71</td>\n",
       "                        <td id=\"T_ad769a3a_ad4a_11ea_95f9_10e7c6da85farow5_col5\" class=\"data row5 col5\" >1.00</td>\n",
       "                        <td id=\"T_ad769a3a_ad4a_11ea_95f9_10e7c6da85farow5_col6\" class=\"data row5 col6\" >0.76</td>\n",
       "                        <td id=\"T_ad769a3a_ad4a_11ea_95f9_10e7c6da85farow5_col7\" class=\"data row5 col7\" >0.31</td>\n",
       "                        <td id=\"T_ad769a3a_ad4a_11ea_95f9_10e7c6da85farow5_col8\" class=\"data row5 col8\" >0.19</td>\n",
       "            </tr>\n",
       "            <tr>\n",
       "                        <th id=\"T_ad769a3a_ad4a_11ea_95f9_10e7c6da85falevel0_row6\" class=\"row_heading level0 row6\" >tot_views_author</th>\n",
       "                        <td id=\"T_ad769a3a_ad4a_11ea_95f9_10e7c6da85farow6_col0\" class=\"data row6 col0\" >0.05</td>\n",
       "                        <td id=\"T_ad769a3a_ad4a_11ea_95f9_10e7c6da85farow6_col1\" class=\"data row6 col1\" >-0.03</td>\n",
       "                        <td id=\"T_ad769a3a_ad4a_11ea_95f9_10e7c6da85farow6_col2\" class=\"data row6 col2\" >0.11</td>\n",
       "                        <td id=\"T_ad769a3a_ad4a_11ea_95f9_10e7c6da85farow6_col3\" class=\"data row6 col3\" >0.01</td>\n",
       "                        <td id=\"T_ad769a3a_ad4a_11ea_95f9_10e7c6da85farow6_col4\" class=\"data row6 col4\" >0.63</td>\n",
       "                        <td id=\"T_ad769a3a_ad4a_11ea_95f9_10e7c6da85farow6_col5\" class=\"data row6 col5\" >0.76</td>\n",
       "                        <td id=\"T_ad769a3a_ad4a_11ea_95f9_10e7c6da85farow6_col6\" class=\"data row6 col6\" >1.00</td>\n",
       "                        <td id=\"T_ad769a3a_ad4a_11ea_95f9_10e7c6da85farow6_col7\" class=\"data row6 col7\" >0.63</td>\n",
       "                        <td id=\"T_ad769a3a_ad4a_11ea_95f9_10e7c6da85farow6_col8\" class=\"data row6 col8\" >0.12</td>\n",
       "            </tr>\n",
       "            <tr>\n",
       "                        <th id=\"T_ad769a3a_ad4a_11ea_95f9_10e7c6da85falevel0_row7\" class=\"row_heading level0 row7\" >author_ranking</th>\n",
       "                        <td id=\"T_ad769a3a_ad4a_11ea_95f9_10e7c6da85farow7_col0\" class=\"data row7 col0\" >0.07</td>\n",
       "                        <td id=\"T_ad769a3a_ad4a_11ea_95f9_10e7c6da85farow7_col1\" class=\"data row7 col1\" >-0.04</td>\n",
       "                        <td id=\"T_ad769a3a_ad4a_11ea_95f9_10e7c6da85farow7_col2\" class=\"data row7 col2\" >0.09</td>\n",
       "                        <td id=\"T_ad769a3a_ad4a_11ea_95f9_10e7c6da85farow7_col3\" class=\"data row7 col3\" >-0.03</td>\n",
       "                        <td id=\"T_ad769a3a_ad4a_11ea_95f9_10e7c6da85farow7_col4\" class=\"data row7 col4\" >0.33</td>\n",
       "                        <td id=\"T_ad769a3a_ad4a_11ea_95f9_10e7c6da85farow7_col5\" class=\"data row7 col5\" >0.31</td>\n",
       "                        <td id=\"T_ad769a3a_ad4a_11ea_95f9_10e7c6da85farow7_col6\" class=\"data row7 col6\" >0.63</td>\n",
       "                        <td id=\"T_ad769a3a_ad4a_11ea_95f9_10e7c6da85farow7_col7\" class=\"data row7 col7\" >1.00</td>\n",
       "                        <td id=\"T_ad769a3a_ad4a_11ea_95f9_10e7c6da85farow7_col8\" class=\"data row7 col8\" >0.12</td>\n",
       "            </tr>\n",
       "            <tr>\n",
       "                        <th id=\"T_ad769a3a_ad4a_11ea_95f9_10e7c6da85falevel0_row8\" class=\"row_heading level0 row8\" >panel_stars</th>\n",
       "                        <td id=\"T_ad769a3a_ad4a_11ea_95f9_10e7c6da85farow8_col0\" class=\"data row8 col0\" >0.07</td>\n",
       "                        <td id=\"T_ad769a3a_ad4a_11ea_95f9_10e7c6da85farow8_col1\" class=\"data row8 col1\" >-0.17</td>\n",
       "                        <td id=\"T_ad769a3a_ad4a_11ea_95f9_10e7c6da85farow8_col2\" class=\"data row8 col2\" >0.08</td>\n",
       "                        <td id=\"T_ad769a3a_ad4a_11ea_95f9_10e7c6da85farow8_col3\" class=\"data row8 col3\" >0.06</td>\n",
       "                        <td id=\"T_ad769a3a_ad4a_11ea_95f9_10e7c6da85farow8_col4\" class=\"data row8 col4\" >0.18</td>\n",
       "                        <td id=\"T_ad769a3a_ad4a_11ea_95f9_10e7c6da85farow8_col5\" class=\"data row8 col5\" >0.19</td>\n",
       "                        <td id=\"T_ad769a3a_ad4a_11ea_95f9_10e7c6da85farow8_col6\" class=\"data row8 col6\" >0.12</td>\n",
       "                        <td id=\"T_ad769a3a_ad4a_11ea_95f9_10e7c6da85farow8_col7\" class=\"data row8 col7\" >0.12</td>\n",
       "                        <td id=\"T_ad769a3a_ad4a_11ea_95f9_10e7c6da85farow8_col8\" class=\"data row8 col8\" >1.00</td>\n",
       "            </tr>\n",
       "    </tbody></table>"
      ],
      "text/plain": [
       "<pandas.io.formats.style.Styler at 0x2e373bf6048>"
      ]
     },
     "execution_count": 3,
     "metadata": {},
     "output_type": "execute_result"
    }
   ],
   "source": [
    "table = table.drop(columns = ['id_prog','id_panel','Likes','Views','Comments','panel_author','author_stars','time'])\n",
    "\n",
    "corrMatrix = table.corr()\n",
    "corrMatrix.style.background_gradient(cmap='coolwarm').set_precision(2)"
   ]
  },
  {
   "cell_type": "markdown",
   "metadata": {},
   "source": [
    "Come si può osservare dalla matrice, c'è un alto grado di correlazione tra **tot_loves_author** e **author_stars** (**0.76**) superiore al limite di **0.7**. Questo è dovuto dalla presenza di entrambe le feature nel calcolo del ranking d'autore, per questo si decide di eliminare tot_views_author. "
   ]
  },
  {
   "cell_type": "code",
   "execution_count": 4,
   "metadata": {},
   "outputs": [
    {
     "data": {
      "text/html": [
       "<style  type=\"text/css\" >\n",
       "    #T_af30966e_ad4a_11ea_8881_10e7c6da85farow0_col0 {\n",
       "            background-color:  #b40426;\n",
       "            color:  #f1f1f1;\n",
       "        }    #T_af30966e_ad4a_11ea_8881_10e7c6da85farow0_col1 {\n",
       "            background-color:  #3b4cc0;\n",
       "            color:  #f1f1f1;\n",
       "        }    #T_af30966e_ad4a_11ea_8881_10e7c6da85farow0_col2 {\n",
       "            background-color:  #5572df;\n",
       "            color:  #000000;\n",
       "        }    #T_af30966e_ad4a_11ea_8881_10e7c6da85farow0_col3 {\n",
       "            background-color:  #4e68d8;\n",
       "            color:  #000000;\n",
       "        }    #T_af30966e_ad4a_11ea_8881_10e7c6da85farow0_col4 {\n",
       "            background-color:  #485fd1;\n",
       "            color:  #f1f1f1;\n",
       "        }    #T_af30966e_ad4a_11ea_8881_10e7c6da85farow0_col5 {\n",
       "            background-color:  #4f69d9;\n",
       "            color:  #000000;\n",
       "        }    #T_af30966e_ad4a_11ea_8881_10e7c6da85farow0_col6 {\n",
       "            background-color:  #5977e3;\n",
       "            color:  #000000;\n",
       "        }    #T_af30966e_ad4a_11ea_8881_10e7c6da85farow0_col7 {\n",
       "            background-color:  #7da0f9;\n",
       "            color:  #000000;\n",
       "        }    #T_af30966e_ad4a_11ea_8881_10e7c6da85farow1_col0 {\n",
       "            background-color:  #3b4cc0;\n",
       "            color:  #f1f1f1;\n",
       "        }    #T_af30966e_ad4a_11ea_8881_10e7c6da85farow1_col1 {\n",
       "            background-color:  #b40426;\n",
       "            color:  #f1f1f1;\n",
       "        }    #T_af30966e_ad4a_11ea_8881_10e7c6da85farow1_col2 {\n",
       "            background-color:  #3b4cc0;\n",
       "            color:  #f1f1f1;\n",
       "        }    #T_af30966e_ad4a_11ea_8881_10e7c6da85farow1_col3 {\n",
       "            background-color:  #3b4cc0;\n",
       "            color:  #f1f1f1;\n",
       "        }    #T_af30966e_ad4a_11ea_8881_10e7c6da85farow1_col4 {\n",
       "            background-color:  #3b4cc0;\n",
       "            color:  #f1f1f1;\n",
       "        }    #T_af30966e_ad4a_11ea_8881_10e7c6da85farow1_col5 {\n",
       "            background-color:  #3b4cc0;\n",
       "            color:  #f1f1f1;\n",
       "        }    #T_af30966e_ad4a_11ea_8881_10e7c6da85farow1_col6 {\n",
       "            background-color:  #3b4cc0;\n",
       "            color:  #f1f1f1;\n",
       "        }    #T_af30966e_ad4a_11ea_8881_10e7c6da85farow1_col7 {\n",
       "            background-color:  #3b4cc0;\n",
       "            color:  #f1f1f1;\n",
       "        }    #T_af30966e_ad4a_11ea_8881_10e7c6da85farow2_col0 {\n",
       "            background-color:  #abc8fd;\n",
       "            color:  #000000;\n",
       "        }    #T_af30966e_ad4a_11ea_8881_10e7c6da85farow2_col1 {\n",
       "            background-color:  #96b7ff;\n",
       "            color:  #000000;\n",
       "        }    #T_af30966e_ad4a_11ea_8881_10e7c6da85farow2_col2 {\n",
       "            background-color:  #b40426;\n",
       "            color:  #f1f1f1;\n",
       "        }    #T_af30966e_ad4a_11ea_8881_10e7c6da85farow2_col3 {\n",
       "            background-color:  #92b4fe;\n",
       "            color:  #000000;\n",
       "        }    #T_af30966e_ad4a_11ea_8881_10e7c6da85farow2_col4 {\n",
       "            background-color:  #7b9ff9;\n",
       "            color:  #000000;\n",
       "        }    #T_af30966e_ad4a_11ea_8881_10e7c6da85farow2_col5 {\n",
       "            background-color:  #7396f5;\n",
       "            color:  #000000;\n",
       "        }    #T_af30966e_ad4a_11ea_8881_10e7c6da85farow2_col6 {\n",
       "            background-color:  #6282ea;\n",
       "            color:  #000000;\n",
       "        }    #T_af30966e_ad4a_11ea_8881_10e7c6da85farow2_col7 {\n",
       "            background-color:  #80a3fa;\n",
       "            color:  #000000;\n",
       "        }    #T_af30966e_ad4a_11ea_8881_10e7c6da85farow3_col0 {\n",
       "            background-color:  #a5c3fe;\n",
       "            color:  #000000;\n",
       "        }    #T_af30966e_ad4a_11ea_8881_10e7c6da85farow3_col1 {\n",
       "            background-color:  #94b6ff;\n",
       "            color:  #000000;\n",
       "        }    #T_af30966e_ad4a_11ea_8881_10e7c6da85farow3_col2 {\n",
       "            background-color:  #8fb1fe;\n",
       "            color:  #000000;\n",
       "        }    #T_af30966e_ad4a_11ea_8881_10e7c6da85farow3_col3 {\n",
       "            background-color:  #b40426;\n",
       "            color:  #f1f1f1;\n",
       "        }    #T_af30966e_ad4a_11ea_8881_10e7c6da85farow3_col4 {\n",
       "            background-color:  #86a9fc;\n",
       "            color:  #000000;\n",
       "        }    #T_af30966e_ad4a_11ea_8881_10e7c6da85farow3_col5 {\n",
       "            background-color:  #6b8df0;\n",
       "            color:  #000000;\n",
       "        }    #T_af30966e_ad4a_11ea_8881_10e7c6da85farow3_col6 {\n",
       "            background-color:  #3c4ec2;\n",
       "            color:  #f1f1f1;\n",
       "        }    #T_af30966e_ad4a_11ea_8881_10e7c6da85farow3_col7 {\n",
       "            background-color:  #7a9df8;\n",
       "            color:  #000000;\n",
       "        }    #T_af30966e_ad4a_11ea_8881_10e7c6da85farow4_col0 {\n",
       "            background-color:  #a2c1ff;\n",
       "            color:  #000000;\n",
       "        }    #T_af30966e_ad4a_11ea_8881_10e7c6da85farow4_col1 {\n",
       "            background-color:  #97b8ff;\n",
       "            color:  #000000;\n",
       "        }    #T_af30966e_ad4a_11ea_8881_10e7c6da85farow4_col2 {\n",
       "            background-color:  #7da0f9;\n",
       "            color:  #000000;\n",
       "        }    #T_af30966e_ad4a_11ea_8881_10e7c6da85farow4_col3 {\n",
       "            background-color:  #89acfd;\n",
       "            color:  #000000;\n",
       "        }    #T_af30966e_ad4a_11ea_8881_10e7c6da85farow4_col4 {\n",
       "            background-color:  #b40426;\n",
       "            color:  #f1f1f1;\n",
       "        }    #T_af30966e_ad4a_11ea_8881_10e7c6da85farow4_col5 {\n",
       "            background-color:  #f6a586;\n",
       "            color:  #000000;\n",
       "        }    #T_af30966e_ad4a_11ea_8881_10e7c6da85farow4_col6 {\n",
       "            background-color:  #afcafc;\n",
       "            color:  #000000;\n",
       "        }    #T_af30966e_ad4a_11ea_8881_10e7c6da85farow4_col7 {\n",
       "            background-color:  #9ebeff;\n",
       "            color:  #000000;\n",
       "        }    #T_af30966e_ad4a_11ea_8881_10e7c6da85farow5_col0 {\n",
       "            background-color:  #a6c4fe;\n",
       "            color:  #000000;\n",
       "        }    #T_af30966e_ad4a_11ea_8881_10e7c6da85farow5_col1 {\n",
       "            background-color:  #94b6ff;\n",
       "            color:  #000000;\n",
       "        }    #T_af30966e_ad4a_11ea_8881_10e7c6da85farow5_col2 {\n",
       "            background-color:  #7093f3;\n",
       "            color:  #000000;\n",
       "        }    #T_af30966e_ad4a_11ea_8881_10e7c6da85farow5_col3 {\n",
       "            background-color:  #6a8bef;\n",
       "            color:  #000000;\n",
       "        }    #T_af30966e_ad4a_11ea_8881_10e7c6da85farow5_col4 {\n",
       "            background-color:  #f7a688;\n",
       "            color:  #000000;\n",
       "        }    #T_af30966e_ad4a_11ea_8881_10e7c6da85farow5_col5 {\n",
       "            background-color:  #b40426;\n",
       "            color:  #f1f1f1;\n",
       "        }    #T_af30966e_ad4a_11ea_8881_10e7c6da85farow5_col6 {\n",
       "            background-color:  #aac7fd;\n",
       "            color:  #000000;\n",
       "        }    #T_af30966e_ad4a_11ea_8881_10e7c6da85farow5_col7 {\n",
       "            background-color:  #a2c1ff;\n",
       "            color:  #000000;\n",
       "        }    #T_af30966e_ad4a_11ea_8881_10e7c6da85farow6_col0 {\n",
       "            background-color:  #aec9fc;\n",
       "            color:  #000000;\n",
       "        }    #T_af30966e_ad4a_11ea_8881_10e7c6da85farow6_col1 {\n",
       "            background-color:  #94b6ff;\n",
       "            color:  #000000;\n",
       "        }    #T_af30966e_ad4a_11ea_8881_10e7c6da85farow6_col2 {\n",
       "            background-color:  #5f7fe8;\n",
       "            color:  #000000;\n",
       "        }    #T_af30966e_ad4a_11ea_8881_10e7c6da85farow6_col3 {\n",
       "            background-color:  #3b4cc0;\n",
       "            color:  #f1f1f1;\n",
       "        }    #T_af30966e_ad4a_11ea_8881_10e7c6da85farow6_col4 {\n",
       "            background-color:  #adc9fd;\n",
       "            color:  #000000;\n",
       "        }    #T_af30966e_ad4a_11ea_8881_10e7c6da85farow6_col5 {\n",
       "            background-color:  #a9c6fd;\n",
       "            color:  #000000;\n",
       "        }    #T_af30966e_ad4a_11ea_8881_10e7c6da85farow6_col6 {\n",
       "            background-color:  #b40426;\n",
       "            color:  #f1f1f1;\n",
       "        }    #T_af30966e_ad4a_11ea_8881_10e7c6da85farow6_col7 {\n",
       "            background-color:  #8badfd;\n",
       "            color:  #000000;\n",
       "        }    #T_af30966e_ad4a_11ea_8881_10e7c6da85farow7_col0 {\n",
       "            background-color:  #aec9fc;\n",
       "            color:  #000000;\n",
       "        }    #T_af30966e_ad4a_11ea_8881_10e7c6da85farow7_col1 {\n",
       "            background-color:  #7295f4;\n",
       "            color:  #000000;\n",
       "        }    #T_af30966e_ad4a_11ea_8881_10e7c6da85farow7_col2 {\n",
       "            background-color:  #5a78e4;\n",
       "            color:  #000000;\n",
       "        }    #T_af30966e_ad4a_11ea_8881_10e7c6da85farow7_col3 {\n",
       "            background-color:  #5673e0;\n",
       "            color:  #000000;\n",
       "        }    #T_af30966e_ad4a_11ea_8881_10e7c6da85farow7_col4 {\n",
       "            background-color:  #7b9ff9;\n",
       "            color:  #000000;\n",
       "        }    #T_af30966e_ad4a_11ea_8881_10e7c6da85farow7_col5 {\n",
       "            background-color:  #82a6fb;\n",
       "            color:  #000000;\n",
       "        }    #T_af30966e_ad4a_11ea_8881_10e7c6da85farow7_col6 {\n",
       "            background-color:  #688aef;\n",
       "            color:  #000000;\n",
       "        }    #T_af30966e_ad4a_11ea_8881_10e7c6da85farow7_col7 {\n",
       "            background-color:  #b40426;\n",
       "            color:  #f1f1f1;\n",
       "        }</style><table id=\"T_af30966e_ad4a_11ea_8881_10e7c6da85fa\" ><thead>    <tr>        <th class=\"blank level0\" ></th>        <th class=\"col_heading level0 col0\" >project_depth</th>        <th class=\"col_heading level0 col1\" >extended</th>        <th class=\"col_heading level0 col2\" >has_avatar_author</th>        <th class=\"col_heading level0 col3\" >has_bio_author</th>        <th class=\"col_heading level0 col4\" >author_followers</th>        <th class=\"col_heading level0 col5\" >tot_loves_author</th>        <th class=\"col_heading level0 col6\" >author_ranking</th>        <th class=\"col_heading level0 col7\" >panel_stars</th>    </tr></thead><tbody>\n",
       "                <tr>\n",
       "                        <th id=\"T_af30966e_ad4a_11ea_8881_10e7c6da85falevel0_row0\" class=\"row_heading level0 row0\" >project_depth</th>\n",
       "                        <td id=\"T_af30966e_ad4a_11ea_8881_10e7c6da85farow0_col0\" class=\"data row0 col0\" >1.00</td>\n",
       "                        <td id=\"T_af30966e_ad4a_11ea_8881_10e7c6da85farow0_col1\" class=\"data row0 col1\" >-0.42</td>\n",
       "                        <td id=\"T_af30966e_ad4a_11ea_8881_10e7c6da85farow0_col2\" class=\"data row0 col2\" >0.06</td>\n",
       "                        <td id=\"T_af30966e_ad4a_11ea_8881_10e7c6da85farow0_col3\" class=\"data row0 col3\" >0.03</td>\n",
       "                        <td id=\"T_af30966e_ad4a_11ea_8881_10e7c6da85farow0_col4\" class=\"data row0 col4\" >0.02</td>\n",
       "                        <td id=\"T_af30966e_ad4a_11ea_8881_10e7c6da85farow0_col5\" class=\"data row0 col5\" >0.04</td>\n",
       "                        <td id=\"T_af30966e_ad4a_11ea_8881_10e7c6da85farow0_col6\" class=\"data row0 col6\" >0.07</td>\n",
       "                        <td id=\"T_af30966e_ad4a_11ea_8881_10e7c6da85farow0_col7\" class=\"data row0 col7\" >0.07</td>\n",
       "            </tr>\n",
       "            <tr>\n",
       "                        <th id=\"T_af30966e_ad4a_11ea_8881_10e7c6da85falevel0_row1\" class=\"row_heading level0 row1\" >extended</th>\n",
       "                        <td id=\"T_af30966e_ad4a_11ea_8881_10e7c6da85farow1_col0\" class=\"data row1 col0\" >-0.42</td>\n",
       "                        <td id=\"T_af30966e_ad4a_11ea_8881_10e7c6da85farow1_col1\" class=\"data row1 col1\" >1.00</td>\n",
       "                        <td id=\"T_af30966e_ad4a_11ea_8881_10e7c6da85farow1_col2\" class=\"data row1 col2\" >-0.03</td>\n",
       "                        <td id=\"T_af30966e_ad4a_11ea_8881_10e7c6da85farow1_col3\" class=\"data row1 col3\" >-0.03</td>\n",
       "                        <td id=\"T_af30966e_ad4a_11ea_8881_10e7c6da85farow1_col4\" class=\"data row1 col4\" >-0.02</td>\n",
       "                        <td id=\"T_af30966e_ad4a_11ea_8881_10e7c6da85farow1_col5\" class=\"data row1 col5\" >-0.03</td>\n",
       "                        <td id=\"T_af30966e_ad4a_11ea_8881_10e7c6da85farow1_col6\" class=\"data row1 col6\" >-0.04</td>\n",
       "                        <td id=\"T_af30966e_ad4a_11ea_8881_10e7c6da85farow1_col7\" class=\"data row1 col7\" >-0.17</td>\n",
       "            </tr>\n",
       "            <tr>\n",
       "                        <th id=\"T_af30966e_ad4a_11ea_8881_10e7c6da85falevel0_row2\" class=\"row_heading level0 row2\" >has_avatar_author</th>\n",
       "                        <td id=\"T_af30966e_ad4a_11ea_8881_10e7c6da85farow2_col0\" class=\"data row2 col0\" >0.06</td>\n",
       "                        <td id=\"T_af30966e_ad4a_11ea_8881_10e7c6da85farow2_col1\" class=\"data row2 col1\" >-0.03</td>\n",
       "                        <td id=\"T_af30966e_ad4a_11ea_8881_10e7c6da85farow2_col2\" class=\"data row2 col2\" >1.00</td>\n",
       "                        <td id=\"T_af30966e_ad4a_11ea_8881_10e7c6da85farow2_col3\" class=\"data row2 col3\" >0.24</td>\n",
       "                        <td id=\"T_af30966e_ad4a_11ea_8881_10e7c6da85farow2_col4\" class=\"data row2 col4\" >0.18</td>\n",
       "                        <td id=\"T_af30966e_ad4a_11ea_8881_10e7c6da85farow2_col5\" class=\"data row2 col5\" >0.15</td>\n",
       "                        <td id=\"T_af30966e_ad4a_11ea_8881_10e7c6da85farow2_col6\" class=\"data row2 col6\" >0.09</td>\n",
       "                        <td id=\"T_af30966e_ad4a_11ea_8881_10e7c6da85farow2_col7\" class=\"data row2 col7\" >0.08</td>\n",
       "            </tr>\n",
       "            <tr>\n",
       "                        <th id=\"T_af30966e_ad4a_11ea_8881_10e7c6da85falevel0_row3\" class=\"row_heading level0 row3\" >has_bio_author</th>\n",
       "                        <td id=\"T_af30966e_ad4a_11ea_8881_10e7c6da85farow3_col0\" class=\"data row3 col0\" >0.03</td>\n",
       "                        <td id=\"T_af30966e_ad4a_11ea_8881_10e7c6da85farow3_col1\" class=\"data row3 col1\" >-0.03</td>\n",
       "                        <td id=\"T_af30966e_ad4a_11ea_8881_10e7c6da85farow3_col2\" class=\"data row3 col2\" >0.24</td>\n",
       "                        <td id=\"T_af30966e_ad4a_11ea_8881_10e7c6da85farow3_col3\" class=\"data row3 col3\" >1.00</td>\n",
       "                        <td id=\"T_af30966e_ad4a_11ea_8881_10e7c6da85farow3_col4\" class=\"data row3 col4\" >0.22</td>\n",
       "                        <td id=\"T_af30966e_ad4a_11ea_8881_10e7c6da85farow3_col5\" class=\"data row3 col5\" >0.12</td>\n",
       "                        <td id=\"T_af30966e_ad4a_11ea_8881_10e7c6da85farow3_col6\" class=\"data row3 col6\" >-0.03</td>\n",
       "                        <td id=\"T_af30966e_ad4a_11ea_8881_10e7c6da85farow3_col7\" class=\"data row3 col7\" >0.06</td>\n",
       "            </tr>\n",
       "            <tr>\n",
       "                        <th id=\"T_af30966e_ad4a_11ea_8881_10e7c6da85falevel0_row4\" class=\"row_heading level0 row4\" >author_followers</th>\n",
       "                        <td id=\"T_af30966e_ad4a_11ea_8881_10e7c6da85farow4_col0\" class=\"data row4 col0\" >0.02</td>\n",
       "                        <td id=\"T_af30966e_ad4a_11ea_8881_10e7c6da85farow4_col1\" class=\"data row4 col1\" >-0.02</td>\n",
       "                        <td id=\"T_af30966e_ad4a_11ea_8881_10e7c6da85farow4_col2\" class=\"data row4 col2\" >0.18</td>\n",
       "                        <td id=\"T_af30966e_ad4a_11ea_8881_10e7c6da85farow4_col3\" class=\"data row4 col3\" >0.22</td>\n",
       "                        <td id=\"T_af30966e_ad4a_11ea_8881_10e7c6da85farow4_col4\" class=\"data row4 col4\" >1.00</td>\n",
       "                        <td id=\"T_af30966e_ad4a_11ea_8881_10e7c6da85farow4_col5\" class=\"data row4 col5\" >0.71</td>\n",
       "                        <td id=\"T_af30966e_ad4a_11ea_8881_10e7c6da85farow4_col6\" class=\"data row4 col6\" >0.33</td>\n",
       "                        <td id=\"T_af30966e_ad4a_11ea_8881_10e7c6da85farow4_col7\" class=\"data row4 col7\" >0.18</td>\n",
       "            </tr>\n",
       "            <tr>\n",
       "                        <th id=\"T_af30966e_ad4a_11ea_8881_10e7c6da85falevel0_row5\" class=\"row_heading level0 row5\" >tot_loves_author</th>\n",
       "                        <td id=\"T_af30966e_ad4a_11ea_8881_10e7c6da85farow5_col0\" class=\"data row5 col0\" >0.04</td>\n",
       "                        <td id=\"T_af30966e_ad4a_11ea_8881_10e7c6da85farow5_col1\" class=\"data row5 col1\" >-0.03</td>\n",
       "                        <td id=\"T_af30966e_ad4a_11ea_8881_10e7c6da85farow5_col2\" class=\"data row5 col2\" >0.15</td>\n",
       "                        <td id=\"T_af30966e_ad4a_11ea_8881_10e7c6da85farow5_col3\" class=\"data row5 col3\" >0.12</td>\n",
       "                        <td id=\"T_af30966e_ad4a_11ea_8881_10e7c6da85farow5_col4\" class=\"data row5 col4\" >0.71</td>\n",
       "                        <td id=\"T_af30966e_ad4a_11ea_8881_10e7c6da85farow5_col5\" class=\"data row5 col5\" >1.00</td>\n",
       "                        <td id=\"T_af30966e_ad4a_11ea_8881_10e7c6da85farow5_col6\" class=\"data row5 col6\" >0.31</td>\n",
       "                        <td id=\"T_af30966e_ad4a_11ea_8881_10e7c6da85farow5_col7\" class=\"data row5 col7\" >0.19</td>\n",
       "            </tr>\n",
       "            <tr>\n",
       "                        <th id=\"T_af30966e_ad4a_11ea_8881_10e7c6da85falevel0_row6\" class=\"row_heading level0 row6\" >author_ranking</th>\n",
       "                        <td id=\"T_af30966e_ad4a_11ea_8881_10e7c6da85farow6_col0\" class=\"data row6 col0\" >0.07</td>\n",
       "                        <td id=\"T_af30966e_ad4a_11ea_8881_10e7c6da85farow6_col1\" class=\"data row6 col1\" >-0.04</td>\n",
       "                        <td id=\"T_af30966e_ad4a_11ea_8881_10e7c6da85farow6_col2\" class=\"data row6 col2\" >0.09</td>\n",
       "                        <td id=\"T_af30966e_ad4a_11ea_8881_10e7c6da85farow6_col3\" class=\"data row6 col3\" >-0.03</td>\n",
       "                        <td id=\"T_af30966e_ad4a_11ea_8881_10e7c6da85farow6_col4\" class=\"data row6 col4\" >0.33</td>\n",
       "                        <td id=\"T_af30966e_ad4a_11ea_8881_10e7c6da85farow6_col5\" class=\"data row6 col5\" >0.31</td>\n",
       "                        <td id=\"T_af30966e_ad4a_11ea_8881_10e7c6da85farow6_col6\" class=\"data row6 col6\" >1.00</td>\n",
       "                        <td id=\"T_af30966e_ad4a_11ea_8881_10e7c6da85farow6_col7\" class=\"data row6 col7\" >0.12</td>\n",
       "            </tr>\n",
       "            <tr>\n",
       "                        <th id=\"T_af30966e_ad4a_11ea_8881_10e7c6da85falevel0_row7\" class=\"row_heading level0 row7\" >panel_stars</th>\n",
       "                        <td id=\"T_af30966e_ad4a_11ea_8881_10e7c6da85farow7_col0\" class=\"data row7 col0\" >0.07</td>\n",
       "                        <td id=\"T_af30966e_ad4a_11ea_8881_10e7c6da85farow7_col1\" class=\"data row7 col1\" >-0.17</td>\n",
       "                        <td id=\"T_af30966e_ad4a_11ea_8881_10e7c6da85farow7_col2\" class=\"data row7 col2\" >0.08</td>\n",
       "                        <td id=\"T_af30966e_ad4a_11ea_8881_10e7c6da85farow7_col3\" class=\"data row7 col3\" >0.06</td>\n",
       "                        <td id=\"T_af30966e_ad4a_11ea_8881_10e7c6da85farow7_col4\" class=\"data row7 col4\" >0.18</td>\n",
       "                        <td id=\"T_af30966e_ad4a_11ea_8881_10e7c6da85farow7_col5\" class=\"data row7 col5\" >0.19</td>\n",
       "                        <td id=\"T_af30966e_ad4a_11ea_8881_10e7c6da85farow7_col6\" class=\"data row7 col6\" >0.12</td>\n",
       "                        <td id=\"T_af30966e_ad4a_11ea_8881_10e7c6da85farow7_col7\" class=\"data row7 col7\" >1.00</td>\n",
       "            </tr>\n",
       "    </tbody></table>"
      ],
      "text/plain": [
       "<pandas.io.formats.style.Styler at 0x2e37358ac18>"
      ]
     },
     "execution_count": 4,
     "metadata": {},
     "output_type": "execute_result"
    }
   ],
   "source": [
    "table = table.drop(columns = ['tot_views_author'])\n",
    "corrMatrix = table.corr()\n",
    "corrMatrix.style.background_gradient(cmap='coolwarm').set_precision(2)"
   ]
  },
  {
   "cell_type": "markdown",
   "metadata": {},
   "source": [
    "# COUNT DATA MODEL"
   ]
  },
  {
   "cell_type": "markdown",
   "metadata": {},
   "source": [
    "Per costruire i count data model si uttilizza il modulo **rpy2**, il quale permette di poter importare ed utilizzare l'ambiente **R** in Python."
   ]
  },
  {
   "cell_type": "code",
   "execution_count": 5,
   "metadata": {},
   "outputs": [],
   "source": [
    "utils = importr('utils')\n",
    "base = importr('base')"
   ]
  },
  {
   "cell_type": "markdown",
   "metadata": {},
   "source": [
    "Installiamo tutte le librerie R necessarie. Questo può essere fatto grazie all'utilizzo del metodo **install_packages()** della libreria R **utils**."
   ]
  },
  {
   "cell_type": "code",
   "execution_count": null,
   "metadata": {},
   "outputs": [],
   "source": [
    "utils.install_packages('pscl')\n",
    "utils.install_packages('MASS')\n",
    "utils.install_packages('stats')\n",
    "utils.install_packages('lmtest')\n",
    "utils.install_packages('nonnest2')\n",
    "utils.install_packages('AER')"
   ]
  },
  {
   "cell_type": "markdown",
   "metadata": {},
   "source": [
    "Una volta installate si passa all'import delle stesse."
   ]
  },
  {
   "cell_type": "code",
   "execution_count": 6,
   "metadata": {},
   "outputs": [],
   "source": [
    "MASS = importr('MASS')\n",
    "stats = importr('stats')\n",
    "pscl = importr('pscl')\n",
    "base = importr('base')\n",
    "lmtest = importr('lmtest')\n",
    "nonnest2 = importr('nonnest2')\n",
    "AER = importr('AER')"
   ]
  },
  {
   "cell_type": "markdown",
   "metadata": {},
   "source": [
    "Il primo passaggio, per la costruzione dei count data model, consiste nel dividere il dataset in due, dove il primo conterrà solo le feature non numeriche ed è stato etichettato con il nome **logit**, il secondo conterrà solo le feature numeriche ed è stato etichettato con il nome **numerical**. In seguito si spiegherà il motivo di questa divisione."
   ]
  },
  {
   "cell_type": "code",
   "execution_count": 7,
   "metadata": {},
   "outputs": [],
   "source": [
    "featureTable = table\n",
    "#featureTable['time'] = numTime\n",
    "logit = featureTable.drop(columns = ['panel_depth','author_followers','tot_loves_author',\n",
    "                'author_ranking','panel_stars'])\n",
    "numerical = featureTable.drop(columns = ['extended','has_avatar_author','has_bio_author'])"
   ]
  },
  {
   "cell_type": "markdown",
   "metadata": {},
   "source": [
    "bisogna effettuare una log-trasformazione delle feature numeriche in quanto alcune di esse contengono valori troppo grandi. Dopo di chè si procede alla ricostruzione della tabella, andando ad unire la tabella numerica(ottenuta dalla log-normalizzazione) alla tabella non numerica. Bisogna specificare che, dopo aver effettuato la log-trasformazione, i valori della variabile dipendente **panel_stars** vengono convertiti ad intero. Questo perchè non è possibile avere una variabile dipendente che sia di un tipo diverso da tipo intero."
   ]
  },
  {
   "cell_type": "code",
   "execution_count": 9,
   "metadata": {},
   "outputs": [],
   "source": [
    "normTable = np.log1p(numerical)\n",
    "normTable['panel_stars'] = normTable['panel_stars'].astype(int)\n",
    "normTable['extended'] = logit['extended']\n",
    "normTable['has_avatar_author'] = logit['has_avatar_author']\n",
    "normTable['has_bio_author'] = logit['has_bio_author']"
   ]
  },
  {
   "cell_type": "markdown",
   "metadata": {},
   "source": [
    "A questo punto si procede con la conversione del dataframe da **pandas DataFrame** ad **R DataFrame**, questa operazione è necessaria affinchè si possa utilizzare il dataFrame. Per effettuare tale conversione si usa il metodo **pandas2ri.py2ri** del modulo rpy2. "
   ]
  },
  {
   "cell_type": "code",
   "execution_count": 10,
   "metadata": {},
   "outputs": [],
   "source": [
    "pandas2ri.activate()\n",
    "rTable = pandas2ri.py2ri(normTable)"
   ]
  },
  {
   "cell_type": "markdown",
   "metadata": {},
   "source": [
    "lo script successivo permette la costruzione dei count data model, in questo caso si è deciso di costruire 4 modelli, ossia **Poisson**, **Negative Binomial**, **Zero Inflated negative binomial** e **Hurdle Model**, utilizzando rispettivamente la funzione **glm** del package **stats** per il modello di Poisson, la funzione **glm_nb** del package **MASS** per la Negative Binomial, la funzione **zeroinfl** del package **pscl** per la Zero Inflated è la funzione **hurdle** del package **pscl** per Hurdle Model. La variabile **formula** contiene una stringa scritta in notazione **Patsy** utile per poter impostare la variabile dipendente (inserita a sinistra del simbolo tilde ~ ) e le variabili indipendenti che fungeranno da predittori(poste a destra del simbolo tilde). "
   ]
  },
  {
   "cell_type": "code",
   "execution_count": 11,
   "metadata": {},
   "outputs": [],
   "source": [
    "formula = \"\"\"panel_stars ~ panel_depth + author_followers +\n",
    "             author_ranking + extended + has_avatar_author + has_bio_author + tot_loves_author\"\"\"\n",
    "\n",
    "\n",
    "summary = ro.r['summary']\n",
    "\n",
    "poissonMod = stats.glm(ro.r(formula), family = ro.r('poisson(link = \"log\")'), data = rTable)\n",
    "nbMod = MASS.glm_nb(ro.r(formula), data = rTable)\n",
    "zeroinflMod = pscl.zeroinfl(ro.r(formula), data = rTable,dist = 'negbin')\n",
    "hurdleMod = pscl.hurdle(ro.r(formula), data = rTable, dist = 'negbin', zero = \"binomial\")"
   ]
  },
  {
   "cell_type": "markdown",
   "metadata": {},
   "source": [
    "# RISULTATI COUNT DATA MODEL"
   ]
  },
  {
   "cell_type": "markdown",
   "metadata": {},
   "source": [
    "**MODELLO DI POISSON**"
   ]
  },
  {
   "cell_type": "code",
   "execution_count": 48,
   "metadata": {
    "collapsed": true
   },
   "outputs": [
    {
     "name": "stdout",
     "output_type": "stream",
     "text": [
      " Residuals: \n",
      "\r\n",
      "    Min       1Q   Median       3Q      Max  \n",
      "\r\n",
      "-1.4258  -0.8871  -0.6865   0.6245   2.9196  \n",
      "\r\n",
      "\n",
      "\r\n",
      "Coefficients:\n",
      "\r\n",
      "                      Estimate Std. Error z value Pr(>|z|)    \n",
      "\r\n",
      "(Intercept)           -2.38625    0.13929 -17.132  < 2e-16 ***\n",
      "\r\n",
      "project_depth         -0.04333    0.03886  -1.115   0.2648    \n",
      "\r\n",
      "author_followers       0.08520    0.01753   4.861 1.17e-06 ***\n",
      "\r\n",
      "author_ranking         0.16503    0.01489  11.084  < 2e-16 ***\n",
      "\r\n",
      "extendedTRUE          -0.45964    0.03443 -13.350  < 2e-16 ***\n",
      "\r\n",
      "has_avatar_authorTRUE  0.15773    0.10118   1.559   0.1190    \n",
      "\r\n",
      "has_bio_authorTRUE     0.07730    0.03243   2.383   0.0172 *  \n",
      "\r\n",
      "tot_loves_author       0.08339    0.01362   6.123 9.16e-10 ***\n",
      "\r\n",
      "---\n",
      "\r\n",
      "Signif. codes:  0 '***' 0.001 '**' 0.01 '*' 0.05 '.' 0.1 ' ' 1\n",
      "\r\n",
      "\n",
      "\r\n",
      "(Dispersion parameter for poisson family taken to be 1)\n",
      "\r\n",
      "\n",
      "\r\n",
      "    Null deviance: 11437  on 13747  degrees of freedom\n",
      "\r\n",
      "Residual deviance: 10479  on 13740  degrees of freedom\n",
      "\r\n",
      "AIC: 20749\n",
      "\r\n",
      "\n",
      "\r\n",
      "Number of Fisher Scoring iterations: 5\n",
      "\r\n",
      "\n",
      "\n",
      "'log Lik.' -10366.36 (df=8)\n",
      "\n"
     ]
    }
   ],
   "source": [
    "poissonSum = summary(poissonMod)\n",
    "loglikPoisson = stats.logLik(poissonMod)\n",
    "\n",
    "poisson = str(poissonSum)\n",
    "poisson = poisson.split('Deviance')[1]\n",
    "print(poisson)\n",
    "print(loglikPoisson)"
   ]
  },
  {
   "cell_type": "code",
   "execution_count": 44,
   "metadata": {},
   "outputs": [
    {
     "name": "stdout",
     "output_type": "stream",
     "text": [
      "[1] 20748.71\n",
      "\n"
     ]
    }
   ],
   "source": [
    "print(stats.AIC(poissonMod))"
   ]
  },
  {
   "cell_type": "markdown",
   "metadata": {},
   "source": [
    "**NEGATIVE BINOMIAL**"
   ]
  },
  {
   "cell_type": "code",
   "execution_count": 47,
   "metadata": {
    "collapsed": true
   },
   "outputs": [
    {
     "name": "stdout",
     "output_type": "stream",
     "text": [
      " Residuals: \n",
      "\r\n",
      "    Min       1Q   Median       3Q      Max  \n",
      "\r\n",
      "-1.4258  -0.8871  -0.6865   0.6245   2.9195  \n",
      "\r\n",
      "\n",
      "\r\n",
      "Coefficients:\n",
      "\r\n",
      "                      Estimate Std. Error z value Pr(>|z|)    \n",
      "\r\n",
      "(Intercept)           -2.38627    0.13930 -17.130  < 2e-16 ***\n",
      "\r\n",
      "project_depth         -0.04333    0.03886  -1.115   0.2648    \n",
      "\r\n",
      "author_followers       0.08520    0.01753   4.861 1.17e-06 ***\n",
      "\r\n",
      "author_ranking         0.16503    0.01489  11.084  < 2e-16 ***\n",
      "\r\n",
      "extendedTRUE          -0.45964    0.03443 -13.350  < 2e-16 ***\n",
      "\r\n",
      "has_avatar_authorTRUE  0.15772    0.10120   1.559   0.1191    \n",
      "\r\n",
      "has_bio_authorTRUE     0.07730    0.03244   2.383   0.0172 *  \n",
      "\r\n",
      "tot_loves_author       0.08339    0.01362   6.123 9.20e-10 ***\n",
      "\r\n",
      "---\n",
      "\r\n",
      "Signif. codes:  0 '***' 0.001 '**' 0.01 '*' 0.05 '.' 0.1 ' ' 1\n",
      "\r\n",
      "\n",
      "\r\n",
      "(Dispersion parameter for Negative Binomial(8237.561) family taken to be 1)\n",
      "\r\n",
      "\n",
      "\r\n",
      "    Null deviance: 11437  on 13747  degrees of freedom\n",
      "\r\n",
      "Residual deviance: 10479  on 13740  degrees of freedom\n",
      "\r\n",
      "AIC: 20751\n",
      "\r\n",
      "\n",
      "\r\n",
      "Number of Fisher Scoring iterations: 1\n",
      "\r\n",
      "\n",
      "\r\n",
      "\n",
      "\r\n",
      "              Theta:  8238 \n",
      "\r\n",
      "          Std. Err.:  10377 \n",
      "\r\n",
      "Warning while fitting theta: raggiunto il limite di iterazioni \n",
      "\r\n",
      "\n",
      "\r\n",
      " 2 x log-likelihood:  -20732.9 \n",
      "\n",
      "'log Lik.' -10366.45 (df=9)\n",
      "\n"
     ]
    }
   ],
   "source": [
    "nbSum = summary(nbMod)\n",
    "loglikNB = stats.logLik(nbMod)\n",
    "\n",
    "nb = str(nbSum)\n",
    "nb = nb.split('Deviance')[1]\n",
    "print(nb)\n",
    "print(loglikNB)"
   ]
  },
  {
   "cell_type": "code",
   "execution_count": 46,
   "metadata": {},
   "outputs": [
    {
     "name": "stdout",
     "output_type": "stream",
     "text": [
      "[1] 20750.9\n",
      "\n"
     ]
    }
   ],
   "source": [
    "print(stats.AIC(nbMod))"
   ]
  },
  {
   "cell_type": "markdown",
   "metadata": {},
   "source": [
    "**ZERO INFLATED NEGATIVE BINOMIAL**"
   ]
  },
  {
   "cell_type": "code",
   "execution_count": 13,
   "metadata": {
    "collapsed": true
   },
   "outputs": [
    {
     "name": "stdout",
     "output_type": "stream",
     "text": [
      " residuals:\n",
      "\r\n",
      "    Min      1Q  Median      3Q     Max \n",
      "\r\n",
      "-0.9456 -0.6378 -0.4617  0.6907  9.3265 \n",
      "\r\n",
      "\n",
      "\r\n",
      "Count model coefficients (negbin with log link):\n",
      "\r\n",
      "                      Estimate Std. Error z value Pr(>|z|)    \n",
      "\r\n",
      "(Intercept)           -1.91475    0.18944 -10.107  < 2e-16 ***\n",
      "\r\n",
      "project_depth         -0.06293    0.04158  -1.513    0.130    \n",
      "\r\n",
      "author_followers       0.02283    0.01981   1.152    0.249    \n",
      "\r\n",
      "author_ranking         0.10546    0.01741   6.056 1.39e-09 ***\n",
      "\r\n",
      "extendedTRUE          -0.41006    0.03702 -11.076  < 2e-16 ***\n",
      "\r\n",
      "has_avatar_authorTRUE  0.08566    0.14771   0.580    0.562    \n",
      "\r\n",
      "has_bio_authorTRUE     0.05618    0.03472   1.618    0.106    \n",
      "\r\n",
      "tot_loves_author       0.11726    0.01487   7.885 3.14e-15 ***\n",
      "\r\n",
      "Log(theta)            16.21801         NA      NA       NA    \n",
      "\r\n",
      "\n",
      "\r\n",
      "Zero-inflation model coefficients (binomial with logit link):\n",
      "\r\n",
      "                      Estimate Std. Error z value Pr(>|z|)    \n",
      "\r\n",
      "(Intercept)             5.3310     1.4921   3.573 0.000353 ***\n",
      "\r\n",
      "project_depth          -0.8290     0.4076  -2.034 0.041970 *  \n",
      "\r\n",
      "author_followers       -2.0836     0.3208  -6.494 8.34e-11 ***\n",
      "\r\n",
      "author_ranking         -2.0620     0.2457  -8.391  < 2e-16 ***\n",
      "\r\n",
      "extendedTRUE            2.1992     0.8588   2.561 0.010441 *  \n",
      "\r\n",
      "has_avatar_authorTRUE  -0.1021     0.6492  -0.157 0.875043    \n",
      "\r\n",
      "has_bio_authorTRUE     -1.0117     0.3756  -2.694 0.007065 ** \n",
      "\r\n",
      "tot_loves_author        1.2643     0.2363   5.351 8.77e-08 ***\n",
      "\r\n",
      "---\n",
      "\r\n",
      "Signif. codes:  0 '***' 0.001 '**' 0.01 '*' 0.05 '.' 0.1 ' ' 1 \n",
      "\r\n",
      "\n",
      "\r\n",
      "Theta = 11050711.1318 \n",
      "\r\n",
      "Number of iterations in BFGS optimization: 66 \n",
      "\r\n",
      "Log-likelihood: -1.032e+04 on 17 Df\n",
      "\n",
      "'log Lik.' -10319.32 (df=17)\n",
      "\n"
     ]
    }
   ],
   "source": [
    "zeroinflSum = summary(zeroinflMod)\n",
    "loglikZeroinfl = stats.logLik(zeroinflMod)\n",
    "\n",
    "zeroinfl = str(zeroinflSum)\n",
    "zeroinfl = zeroinfl.split('Pearson')[1]\n",
    "print(zeroinfl)\n",
    "print(loglikZeroinfl)"
   ]
  },
  {
   "cell_type": "code",
   "execution_count": 53,
   "metadata": {},
   "outputs": [
    {
     "name": "stdout",
     "output_type": "stream",
     "text": [
      "[1] 20672.64\n",
      "\n"
     ]
    }
   ],
   "source": [
    "print(stats.AIC(zeroinflMod))"
   ]
  },
  {
   "cell_type": "markdown",
   "metadata": {},
   "source": [
    "**HURDLE MODEL**"
   ]
  },
  {
   "cell_type": "code",
   "execution_count": 14,
   "metadata": {
    "collapsed": true
   },
   "outputs": [
    {
     "name": "stdout",
     "output_type": "stream",
     "text": [
      " residuals:\n",
      "\r\n",
      "    Min      1Q  Median      3Q     Max \n",
      "\r\n",
      "-1.4263 -0.7262 -0.4911  0.8451  7.6005 \n",
      "\r\n",
      "\n",
      "\r\n",
      "Count model coefficients (truncated negbin with log link):\n",
      "\r\n",
      "                      Estimate Std. Error z value Pr(>|z|)    \n",
      "\r\n",
      "(Intercept)           -1.40920    0.55982  -2.517   0.0118 *  \n",
      "\r\n",
      "project_depth         -0.11960    0.13911  -0.860   0.3899    \n",
      "\r\n",
      "author_followers       0.27035    0.06241   4.332 1.48e-05 ***\n",
      "\r\n",
      "author_ranking        -0.03220    0.05219  -0.617   0.5373    \n",
      "\r\n",
      "extendedTRUE          -0.57208    0.11384  -5.025 5.03e-07 ***\n",
      "\r\n",
      "has_avatar_authorTRUE  0.49586    0.45762   1.084   0.2786    \n",
      "\r\n",
      "has_bio_authorTRUE    -0.18502    0.10559  -1.752   0.0797 .  \n",
      "\r\n",
      "tot_loves_author      -0.09076    0.04729  -1.919   0.0549 .  \n",
      "\r\n",
      "Log(theta)            13.68812         NA      NA       NA    \n",
      "\r\n",
      "Zero hurdle model coefficients (binomial with logit link):\n",
      "\r\n",
      "                      Estimate Std. Error z value Pr(>|z|)    \n",
      "\r\n",
      "(Intercept)           -2.79278    0.17494 -15.964  < 2e-16 ***\n",
      "\r\n",
      "project_depth         -0.05662    0.05174  -1.094 0.273837    \n",
      "\r\n",
      "author_followers       0.12205    0.02295   5.318 1.05e-07 ***\n",
      "\r\n",
      "author_ranking         0.28737    0.02026  14.185  < 2e-16 ***\n",
      "\r\n",
      "extendedTRUE          -0.74354    0.04982 -14.924  < 2e-16 ***\n",
      "\r\n",
      "has_avatar_authorTRUE  0.08026    0.11807   0.680 0.496665    \n",
      "\r\n",
      "has_bio_authorTRUE     0.15211    0.04456   3.414 0.000641 ***\n",
      "\r\n",
      "tot_loves_author       0.13002    0.01777   7.316 2.55e-13 ***\n",
      "\r\n",
      "---\n",
      "\r\n",
      "Signif. codes:  0 '***' 0.001 '**' 0.01 '*' 0.05 '.' 0.1 ' ' 1 \n",
      "\r\n",
      "\n",
      "\r\n",
      "Theta: count = 880389.2503\n",
      "\r\n",
      "Number of iterations in BFGS optimization: 40 \n",
      "\r\n",
      "Log-likelihood: -9956 on 17 Df\n",
      "\n",
      "'log Lik.' -9956.196 (df=17)\n",
      "\n"
     ]
    }
   ],
   "source": [
    "hurdleSum = summary(hurdleMod)\n",
    "loglikHurdle = stats.logLik(hurdleMod)\n",
    "\n",
    "hurdle = str(hurdleSum)\n",
    "hurdle = hurdle.split('Pearson')[1]\n",
    "print(hurdle)\n",
    "print(loglikHurdle)"
   ]
  },
  {
   "cell_type": "code",
   "execution_count": 52,
   "metadata": {},
   "outputs": [
    {
     "name": "stdout",
     "output_type": "stream",
     "text": [
      "[1] 19946.39\n",
      "\n"
     ]
    }
   ],
   "source": [
    "print(stats.AIC(hurdleMod))"
   ]
  },
  {
   "cell_type": "markdown",
   "metadata": {},
   "source": [
    "Prima di determinare quale dei 4 modelli è il migliore, bisogna fare una precisazione tra il modello di Poisson e la Negative Binomial. Dopo aver modellato i dati, bisogna verificare se essi presentano un fenomeno di **sovradispersione**, **equidispersione** o **sottodispersione**, nello specifico si ha:\n",
    "\n",
    "- Un fenomeno di **sovradispersione** se la varianza dei dati è maggiore della loro media.\n",
    "- Un fenomeno di **equidispersione** se la varianza dei  dati è uguale della loro media.\n",
    "- Un fenomeno di **sottodispersione** se la varianza dei dati è minore dellla loro media.\n",
    "\n",
    "E' importante fare queste distinzioni in quanto il modello di Poisson assume che la varianza sia uguale alla media(quindi quando si ha equidispersione), mentre la Negative Ninomial è un modello che si basa sulla Poisson ma che viene utilizzato qualora si dovesse avere sovradispersione. Se invece ci dovesse essere sottodispersione, entrambi i modelli non sono i più adatti per poter modellare i dati e si dovrà ricorrere all'utilizzo di altri modelli. Prima di arrivare a ciò, però, si deve valutare quale dei due modelli sia il migliore per modellare i dati. Per raggiungere tale scopo si effettua un test detto **\"dispersion test\"** il quale effettua delle ipotesi e verifica la correlazione che sussiste tra la varianza e la media. E' possibile effettuare tale test con la funzione **dispersiontest** della libreria R **AER**; in particolare si andrà ad osservare un coefficiente **\"alpha\"**, se esso ha un valore minore di 0, allora si ha sottodispersione, se invece dovesse avere un valore pari a 0 si ha equidispersione, altrimenti si ha sovradispersione."
   ]
  },
  {
   "cell_type": "code",
   "execution_count": 41,
   "metadata": {},
   "outputs": [
    {
     "name": "stdout",
     "output_type": "stream",
     "text": [
      "$estimate\n",
      "\r\n",
      "     alpha \n",
      "\r\n",
      "-0.2363538 \n",
      "\r\n",
      "\n",
      "\n"
     ]
    }
   ],
   "source": [
    "c = ro.r['c']\n",
    "dispTest = AER.dispersiontest(poissonMod,trafo = 1,alternative = c(\"greater\", \"two.sided\", \"less\"))\n",
    "print(dispTest.rx(3))"
   ]
  },
  {
   "cell_type": "markdown",
   "metadata": {},
   "source": [
    "come si evince dall'output della funzione, il valore di alpha è pari a **-0.236**, questo implica che, seppure di poco, si ha sottodispersione dei dati. Questo spiega il perchè la Poisson e la Negative Binomial hanno dei valori di AIC quasi identici, infatti la prima ha un AIC di **20748**, la seconda invece ha un AIC di **20750**. Osservando anche i valori di **Likelihood** di entrambi i modelli(**-10366**) si arriva alla conclusione che essi sono identici e non possono essere attendibili. Come metodo di paragone per gli altri due modelli costruiti(Zero Inflated Negative Binomial e Hurdle Model) si decide di utilizzare la Poisson in quanto l'AIC è, seppur di poco, minore dell'AIC della Negative Binomial."
   ]
  },
  {
   "cell_type": "markdown",
   "metadata": {},
   "source": [
    "**TEST DI VUONG**"
   ]
  },
  {
   "cell_type": "markdown",
   "metadata": {},
   "source": [
    "Per verificare quale dei seguenti modelli è il migliore per modellare i dati, si utilizza il test di Vuong."
   ]
  },
  {
   "cell_type": "code",
   "execution_count": 49,
   "metadata": {
    "collapsed": true
   },
   "outputs": [
    {
     "name": "stdout",
     "output_type": "stream",
     "text": [
      "\n",
      "\r\n",
      "Model 1 \n",
      "\r\n",
      " Class: zeroinfl \n",
      "\r\n",
      " Call: (function (formula, data, subset, na.action, weights, offset, ...\n",
      "\r\n",
      "\n",
      "\r\n",
      "Model 2 \n",
      "\r\n",
      " Class: glm \n",
      "\r\n",
      " Call: (function (formula, family = gaussian, data, weights, subset, ...\n",
      "\r\n",
      "\n",
      "\r\n",
      "Variance test \n",
      "\r\n",
      "  H0: Model 1 and Model 2 are indistinguishable \n",
      "\r\n",
      "  H1: Model 1 and Model 2 are distinguishable \n",
      "\r\n",
      "    w2 = 0.006,   p = 9.81e-05\n",
      "\r\n",
      "\n",
      "\r\n",
      "Non-nested likelihood ratio test \n",
      "\r\n",
      "  H0: Model fits are equal for the focal population \n",
      "\r\n",
      "  H1A: Model 1 fits better than Model 2 \n",
      "\r\n",
      "    z = 5.173,   p = 1.15e-07\n",
      "\r\n",
      "  H1B: Model 2 fits better than Model 1 \n",
      "\r\n",
      "    z = 5.173,   p = 1\n",
      "\n"
     ]
    }
   ],
   "source": [
    "pm_zeroinfl_vuong = nonnest2.vuongtest(zeroinflMod,poissonMod)\n",
    "print(pm_zeroinfl_vuong)"
   ]
  },
  {
   "cell_type": "markdown",
   "metadata": {},
   "source": [
    "Il primo test effettuato è tra la Zero Inflated Negative Binomial e la Poisson. La Zero Inflated è un modello utilizzato per dati che esibiscono un fenomeno di sovradispersione e che contengono un eccesso di zeri. Essa combina la distribuzione della Negative Binomial con la distribuzione **logit**. Come si evince sia dal Test di vuong, sia dall'AIC della Zero Inflated(**20672**<**20748**), quest'ultimo è migliore rispetto alla Poisson. E' opportuno precisare che lo scarto è molto basso."
   ]
  },
  {
   "cell_type": "code",
   "execution_count": 50,
   "metadata": {
    "collapsed": true
   },
   "outputs": [
    {
     "name": "stdout",
     "output_type": "stream",
     "text": [
      "\n",
      "\r\n",
      "Model 1 \n",
      "\r\n",
      " Class: hurdle \n",
      "\r\n",
      " Call: (function (formula, data, subset, na.action, weights, offset, ...\n",
      "\r\n",
      "\n",
      "\r\n",
      "Model 2 \n",
      "\r\n",
      " Class: glm \n",
      "\r\n",
      " Call: (function (formula, family = gaussian, data, weights, subset, ...\n",
      "\r\n",
      "\n",
      "\r\n",
      "Variance test \n",
      "\r\n",
      "  H0: Model 1 and Model 2 are indistinguishable \n",
      "\r\n",
      "  H1: Model 1 and Model 2 are distinguishable \n",
      "\r\n",
      "    w2 = 0.048,   p = 1.74e-08\n",
      "\r\n",
      "\n",
      "\r\n",
      "Non-nested likelihood ratio test \n",
      "\r\n",
      "  H0: Model fits are equal for the focal population \n",
      "\r\n",
      "  H1A: Model 1 fits better than Model 2 \n",
      "\r\n",
      "    z = 15.915,   p = <2e-16\n",
      "\r\n",
      "  H1B: Model 2 fits better than Model 1 \n",
      "\r\n",
      "    z = 15.915,   p = 1\n",
      "\n"
     ]
    }
   ],
   "source": [
    "pm_hurdle_vuong = nonnest2.vuongtest(hurdleMod,poissonMod)\n",
    "print(pm_hurdle_vuong)"
   ]
  },
  {
   "cell_type": "markdown",
   "metadata": {},
   "source": [
    "Il valore di AIC dell'Hurdle Model è pari a **19946** il quale è nettamente inferiore rispetto all'AIC della Poisson. Sia questo, sia i risultati ottenuti dal test di Vuong, dimostrano che l'Hurdle Model è migliore rispetto al modello di Poisson."
   ]
  },
  {
   "cell_type": "code",
   "execution_count": 51,
   "metadata": {
    "collapsed": true
   },
   "outputs": [
    {
     "name": "stdout",
     "output_type": "stream",
     "text": [
      "\n",
      "\r\n",
      "Model 1 \n",
      "\r\n",
      " Class: zeroinfl \n",
      "\r\n",
      " Call: (function (formula, data, subset, na.action, weights, offset, ...\n",
      "\r\n",
      "\n",
      "\r\n",
      "Model 2 \n",
      "\r\n",
      " Class: hurdle \n",
      "\r\n",
      " Call: (function (formula, data, subset, na.action, weights, offset, ...\n",
      "\r\n",
      "\n",
      "\r\n",
      "Variance test \n",
      "\r\n",
      "  H0: Model 1 and Model 2 are indistinguishable \n",
      "\r\n",
      "  H1: Model 1 and Model 2 are distinguishable \n",
      "\r\n",
      "    w2 = 0.055,   p = <2e-16\n",
      "\r\n",
      "\n",
      "\r\n",
      "Non-nested likelihood ratio test \n",
      "\r\n",
      "  H0: Model fits are equal for the focal population \n",
      "\r\n",
      "  H1A: Model 1 fits better than Model 2 \n",
      "\r\n",
      "    z = -13.180,   p = 1\n",
      "\r\n",
      "  H1B: Model 2 fits better than Model 1 \n",
      "\r\n",
      "    z = -13.180,   p = < 2.2e-16\n",
      "\n"
     ]
    }
   ],
   "source": [
    "zero_hurdle_test = nonnest2.vuongtest(zeroinflMod, hurdleMod)\n",
    "print(zero_hurdle_test)"
   ]
  },
  {
   "cell_type": "markdown",
   "metadata": {},
   "source": [
    "L'ultimo test che si deve effettuare è tra i due modelli migliori, Hurdle Model  e Zero Inflated. Innanzitutto, il confronto dei rispettivi AIC mostra come il valore del primo è minore del secondo (**19946**<**20672**), questo fattore unito ai risultati ottenuti dal test di Vuong dimostrano come l'Hurdle Model sia migliore rispetto alla Zero Inflated Negative Binomial."
   ]
  },
  {
   "cell_type": "markdown",
   "metadata": {},
   "source": [
    "# CALCOLO INTERVALLO DI CONFIDENZA HURDLE MODEL"
   ]
  },
  {
   "cell_type": "code",
   "execution_count": 16,
   "metadata": {},
   "outputs": [],
   "source": [
    "conf_int = stats.confint(hurdleMod)\n",
    "row = 1\n",
    "_1_count_conf_int = []\n",
    "_2_count_conf_int = []\n",
    "while row <= (conf_int.nrow/2):\n",
    "    _1_count_conf_int.append((conf_int.rx(row,1))[0])\n",
    "    _2_count_conf_int.append((conf_int.rx(row,2))[0])\n",
    "    row = row + 1\n",
    "    \n",
    "row = 9\n",
    "_1_zero_conf_int = []\n",
    "_2_zero_conf_int = []\n",
    "while row <= (conf_int.nrow):\n",
    "    _1_zero_conf_int.append((conf_int.rx(row,1))[0])\n",
    "    _2_zero_conf_int.append((conf_int.rx(row,2))[0])\n",
    "    row = row + 1"
   ]
  },
  {
   "cell_type": "markdown",
   "metadata": {},
   "source": [
    "# CALCOLO STANDARDIZED FACTOR CHANGE COEFFICIENTI HURDLE MODEL COUNT "
   ]
  },
  {
   "cell_type": "code",
   "execution_count": 14,
   "metadata": {},
   "outputs": [
    {
     "name": "stdout",
     "output_type": "stream",
     "text": [
      "                 features       SFC     0,025     0,975\n",
      "0               Intercept  0.244339 -2.506425 -0.311974\n",
      "1           project_depth  0.887272 -0.392261  0.153054\n",
      "2        author_followers  1.310428  0.148026  0.392682\n",
      "3          author_ranking  0.968313 -0.134492  0.070093\n",
      "4           extended_TRUE  0.564348 -0.795208 -0.348959\n",
      "5  has_avatar_author_TRUE  1.641914 -0.401061  1.392786\n",
      "6     has_bio_author_TRUE  0.831084 -0.391969  0.021921\n",
      "7        tot_loves_author  0.913238 -0.183438  0.001919\n"
     ]
    }
   ],
   "source": [
    "value = base.matrix(base.exp(stats.coef(hurdleMod, \"count\")))\n",
    "\n",
    "data = {'features': ['Intercept','panel_depth','author_followers','author_ranking','extended_TRUE',\n",
    "                     'has_avatar_author_TRUE','has_bio_author_TRUE','tot_loves_author'],\n",
    "        'SFC': value,\n",
    "        '0,025': _1_count_conf_int,\n",
    "        '0,975': _2_count_conf_int}\n",
    "SFC = pd.DataFrame(data,columns = ['features','SFC','0,025','0,975'])\n",
    "print(SFC)"
   ]
  },
  {
   "cell_type": "markdown",
   "metadata": {},
   "source": [
    "# CALCOLO ODDS RATIO COEFFICIENTI HURDLE MODEL ZERO"
   ]
  },
  {
   "cell_type": "markdown",
   "metadata": {},
   "source": [
    "## Che cos'è l'odds ratio\n",
    "\n",
    "l'**Odds Ratio**(**OR**) è un modo per rappresentare la forza dell'associazione tra fattori di esposizione (nel nostro caso i predittori) e l'esito o risultato(ovvero la variabile dipendente). Possiamo distinguere 3 casi di OR:\n",
    "\n",
    "- Un OR > 1 significa maggiore probabilità di associazione tra l'esposizione e il risultato. Nello specifico, un OR di 1.2 significa che c'è un aumento del 20% delle probabilità di un risultato con una data esposizione. In questo caso significa che se un predittore dovesse avere un OR di 1.2, si avrebbe un aumento del 20% della probabilità che un panel riceva una star(dato che la variabile dipendente è panel_star e stiamo considerando la parte logit del modello) con quel predittore.\n",
    "\n",
    "- Un OR < 1 significa minore probabilità di associazione tra l'esposizione e il risultato. Nello specifico, un OR di 0.2 significa che c'è una diminuzione dell' 80% delle probabilità di un risultato con una data esposizione. In questo caso significa che se un predittore dovesse avere un OR di 0.2, si avrebbe una diminuzione dell' 80% della probabilità che un panel riceva una star con quel predittore.\n",
    "\n",
    "- Un OR = 1 significa che non c'è nessuna associazione tra l'esposizione e il risultato.\n",
    "\n",
    "**ATTENZIONE!**\n",
    "Un OR pari a 0.2 non implica che c'è un aumento del 20% di probabilità che un panel riceva una star con un determinato predittore, stesso discorso vale per un OR pari a 1.2, con ciò non significa che c'è una diminuzione dell' 80% che un panel non riceva una star. Un predittore con OR < 1 influisce **solo** negativamente sul risultato, mentre un  OR > 1 influisce **solo** positivamente. "
   ]
  },
  {
   "cell_type": "code",
   "execution_count": 17,
   "metadata": {},
   "outputs": [
    {
     "name": "stdout",
     "output_type": "stream",
     "text": [
      "                 features  Odds Ratio     0,025     0,975\n",
      "0               Intercept    0.061251  0.043471  0.086302\n",
      "1           project_depth    0.944951  0.853817  1.045813\n",
      "2        author_followers    1.129810  1.080111  1.181795\n",
      "3          author_ranking    1.332923  1.281033  1.386915\n",
      "4           extended_TRUE    0.475429  0.431198  0.524197\n",
      "5  has_avatar_author_TRUE    1.083566  0.859714  1.365705\n",
      "6     has_bio_author_TRUE    1.164283  1.066918  1.270532\n",
      "7        tot_loves_author    1.138848  1.099865  1.179213\n"
     ]
    }
   ],
   "source": [
    "values = base.matrix((base.exp(stats.coef(hurdleMod, \"zero\"))))\n",
    "_1_zero_conf_int = np.exp(_1_zero_conf_int)\n",
    "_2_zero_conf_int = np.exp(_2_zero_conf_int)\n",
    "data = {'features': ['Intercept','panel_depth','author_followers','author_ranking','extended_TRUE',\n",
    "                     'has_avatar_author_TRUE','has_bio_author_TRUE','tot_loves_author'],\n",
    "        'Odds Ratio': values,\n",
    "        '0,025': _1_zero_conf_int,\n",
    "        '0,975': _2_zero_conf_int}\n",
    "oddsRatioTable = pd.DataFrame(data,columns = ['features','Odds Ratio','0,025','0,975'])\n",
    "print(oddsRatioTable)"
   ]
  },
  {
   "cell_type": "markdown",
   "metadata": {},
   "source": [
    "Prima di analizzare i risultati ottenuti bisogna specificare che cos'è un intervallo di confidenza e perchè è importante.\n",
    "Quando si effettua la stima di un parametro, in questo caso il coefficiente di un predittore, è opportuno accompagnare tale stima da un range di valori plausibili per quel parametro, il quale è appunto l'**intervallo di confidenza**. Ad ogni intervallo di confidenza viene associato un livello di confidenza che rappresenta il grado di attendibilità dell'intervallo. In questo caso è stato impostato un grado di confidenza del 95%, esso indica la percentuale con la quale il valore reale del parametro è compreso tra l'estremo inferiore e l'estremo superiore dell'intervallo. Dopo aver calcolato tutti i valori di OR, si deve anche calcolare l'intervallo di confidenza al 95% di questi ultimi, questo perchè, se nell'intervallo di confidenza di un OR è compreso il valore 1, allora il predittore a cui fa riferimento l'OR, è considerato **statisticamente non significativo**. Alla luce di queste considerazioni si può affermare che:\n",
    "\n",
    "- La variabile **panel_depth** risulta essere statisticamente non significativa in quanto contiene il valore 1 nell'intervallo **[0.854,1.045]**.\n",
    "- La variabile **author_followers** risulta essere statisticamente significativa ed ha un OR pari a **1.13**. Questo implica che esso è un predittore influente sulla variabile dipendente, infatti aumenta del **~13%** la probabilità che un panel riceva una star.\n",
    "- La variabile **author_ranking** risulta essere statisticamente significativa ed ha un OR pari a **1.333**. Questo implica che esso è un predittore influente sulla variabile dipendente, infatti aumenta del **~33%** la probabilità che un panel riceva una star.\n",
    "- La variabile **extended_TRUE** risulta essere statisticamente significativa ed ha un OR pari a **0.475**. Questo implica che esso è un predittore che influisce molto negativamente sulla variabile dipendente, infatti dimiunisce del **~53%** la probabilità che un panel riceva una star.\n",
    "- La variabile **has_avatar_author_TRUE** risulta essere statisticamente non significativa in quanto contiene il valore 1 nell'intervallo **[0.860,1.366]**.\n",
    "- La variabile **har_bio_author_TRUE** risulta essere statisticamente significativa ed ha un OR pari a **1.164**. Questo implica che esso è un predittore che influisce sulla variabile dipendente, infatti aumenta del **~16%** la probabilità che un panel riceva una star.\n",
    "- La variabile **tot_loves_author** risulta essere statisticamente significativa ed ha un OR pari a **1.139**. Questo implica che esso è un predittore che influisce sulla variabile dipendente, infatti aumenta del **~14%** la probabilità che un panel riceva una star."
   ]
  }
 ],
 "metadata": {
  "kernelspec": {
   "display_name": "Python 3",
   "language": "python",
   "name": "python3"
  },
  "language_info": {
   "codemirror_mode": {
    "name": "ipython",
    "version": 3
   },
   "file_extension": ".py",
   "mimetype": "text/x-python",
   "name": "python",
   "nbconvert_exporter": "python",
   "pygments_lexer": "ipython3",
   "version": "3.7.0"
  }
 },
 "nbformat": 4,
 "nbformat_minor": 4
}
